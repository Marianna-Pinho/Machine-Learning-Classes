{
 "cells": [
  {
   "cell_type": "markdown",
   "metadata": {},
   "source": [
    "# <center> Lista 09 - Aprendizado de Máquina </center>\n",
    "\n",
    "**Aluno(a):** Marianna de Pinho Severo <br>\n",
    "**Matrícula:** 374856 <br>\n",
    "**Professor(a):** Regis Pires"
   ]
  },
  {
   "cell_type": "markdown",
   "metadata": {},
   "source": [
    "Nesta lista utilizaremos o [dataset Iris](https://www.google.com/url?q=https%3A%2F%2Farchive.ics.uci.edu%2Fml%2Fmachine-learning-databases%2Firis%2Firis.data&sa=D&sntz=1&usg=AFQjCNFKq79DXPZbLNQzSgdmE8keMrY2ow) para estudarmos os modelos K Nearest Neighbors (KNN) e Medidas de Distância."
   ]
  },
  {
   "cell_type": "markdown",
   "metadata": {},
   "source": [
    "### Passo 01: Importar bibliotecas"
   ]
  },
  {
   "cell_type": "code",
   "execution_count": 1,
   "metadata": {},
   "outputs": [],
   "source": [
    "%matplotlib inline\n",
    "import numpy as np\n",
    "import pandas as pd\n",
    "import matplotlib.pyplot as plt\n",
    "from sklearn.preprocessing import LabelEncoder, StandardScaler\n",
    "from sklearn.model_selection import train_test_split\n",
    "from sklearn.neighbors import KNeighborsClassifier\n",
    "from sklearn.metrics import accuracy_score"
   ]
  },
  {
   "cell_type": "markdown",
   "metadata": {},
   "source": [
    "### Passo 02: Carregar o conjunto de dados"
   ]
  },
  {
   "cell_type": "code",
   "execution_count": 2,
   "metadata": {},
   "outputs": [],
   "source": [
    "flowers = pd.read_csv('dataset/iris.data', sep=',', header=None)"
   ]
  },
  {
   "cell_type": "markdown",
   "metadata": {},
   "source": [
    "### Passo 03: Breve análise dos dados"
   ]
  },
  {
   "cell_type": "code",
   "execution_count": 3,
   "metadata": {},
   "outputs": [
    {
     "data": {
      "text/html": [
       "<div>\n",
       "<style scoped>\n",
       "    .dataframe tbody tr th:only-of-type {\n",
       "        vertical-align: middle;\n",
       "    }\n",
       "\n",
       "    .dataframe tbody tr th {\n",
       "        vertical-align: top;\n",
       "    }\n",
       "\n",
       "    .dataframe thead th {\n",
       "        text-align: right;\n",
       "    }\n",
       "</style>\n",
       "<table border=\"1\" class=\"dataframe\">\n",
       "  <thead>\n",
       "    <tr style=\"text-align: right;\">\n",
       "      <th></th>\n",
       "      <th>0</th>\n",
       "      <th>1</th>\n",
       "      <th>2</th>\n",
       "      <th>3</th>\n",
       "      <th>4</th>\n",
       "    </tr>\n",
       "  </thead>\n",
       "  <tbody>\n",
       "    <tr>\n",
       "      <th>0</th>\n",
       "      <td>5.1</td>\n",
       "      <td>3.5</td>\n",
       "      <td>1.4</td>\n",
       "      <td>0.2</td>\n",
       "      <td>Iris-setosa</td>\n",
       "    </tr>\n",
       "    <tr>\n",
       "      <th>1</th>\n",
       "      <td>4.9</td>\n",
       "      <td>3.0</td>\n",
       "      <td>1.4</td>\n",
       "      <td>0.2</td>\n",
       "      <td>Iris-setosa</td>\n",
       "    </tr>\n",
       "    <tr>\n",
       "      <th>2</th>\n",
       "      <td>4.7</td>\n",
       "      <td>3.2</td>\n",
       "      <td>1.3</td>\n",
       "      <td>0.2</td>\n",
       "      <td>Iris-setosa</td>\n",
       "    </tr>\n",
       "    <tr>\n",
       "      <th>3</th>\n",
       "      <td>4.6</td>\n",
       "      <td>3.1</td>\n",
       "      <td>1.5</td>\n",
       "      <td>0.2</td>\n",
       "      <td>Iris-setosa</td>\n",
       "    </tr>\n",
       "    <tr>\n",
       "      <th>4</th>\n",
       "      <td>5.0</td>\n",
       "      <td>3.6</td>\n",
       "      <td>1.4</td>\n",
       "      <td>0.2</td>\n",
       "      <td>Iris-setosa</td>\n",
       "    </tr>\n",
       "  </tbody>\n",
       "</table>\n",
       "</div>"
      ],
      "text/plain": [
       "     0    1    2    3            4\n",
       "0  5.1  3.5  1.4  0.2  Iris-setosa\n",
       "1  4.9  3.0  1.4  0.2  Iris-setosa\n",
       "2  4.7  3.2  1.3  0.2  Iris-setosa\n",
       "3  4.6  3.1  1.5  0.2  Iris-setosa\n",
       "4  5.0  3.6  1.4  0.2  Iris-setosa"
      ]
     },
     "execution_count": 3,
     "metadata": {},
     "output_type": "execute_result"
    }
   ],
   "source": [
    "flowers.head()"
   ]
  },
  {
   "cell_type": "code",
   "execution_count": 4,
   "metadata": {},
   "outputs": [
    {
     "name": "stdout",
     "output_type": "stream",
     "text": [
      "<class 'pandas.core.frame.DataFrame'>\n",
      "RangeIndex: 150 entries, 0 to 149\n",
      "Data columns (total 5 columns):\n",
      "0    150 non-null float64\n",
      "1    150 non-null float64\n",
      "2    150 non-null float64\n",
      "3    150 non-null float64\n",
      "4    150 non-null object\n",
      "dtypes: float64(4), object(1)\n",
      "memory usage: 5.9+ KB\n"
     ]
    }
   ],
   "source": [
    "flowers.info()"
   ]
  },
  {
   "cell_type": "code",
   "execution_count": 5,
   "metadata": {},
   "outputs": [
    {
     "data": {
      "text/plain": [
       "Iris-virginica     50\n",
       "Iris-versicolor    50\n",
       "Iris-setosa        50\n",
       "Name: 4, dtype: int64"
      ]
     },
     "execution_count": 5,
     "metadata": {},
     "output_type": "execute_result"
    }
   ],
   "source": [
    "flowers[4].value_counts()"
   ]
  },
  {
   "cell_type": "markdown",
   "metadata": {},
   "source": [
    "### Passo 04: Transformar os labels para o formato numérico"
   ]
  },
  {
   "cell_type": "code",
   "execution_count": 6,
   "metadata": {},
   "outputs": [],
   "source": [
    "le = LabelEncoder()\n",
    "flowers[4] = le.fit_transform(flowers[4])"
   ]
  },
  {
   "cell_type": "markdown",
   "metadata": {},
   "source": [
    "## Questão 03: Implementar medidas de distância\n",
    "\n",
    "Nesta questão, implementaremos alguns algoritmos para calcular a distância entre dois pontos."
   ]
  },
  {
   "cell_type": "markdown",
   "metadata": {},
   "source": [
    "### Distância 01: Minkowiski\n",
    "\n",
    "A distância Minkowiski é dada pela seguinte fórmula $$ d(x,y) = (\\sum_{i=1}^{k}(|x_i - y_i|)^p)^{\\frac{1}{p}} $$"
   ]
  },
  {
   "cell_type": "code",
   "execution_count": 7,
   "metadata": {},
   "outputs": [],
   "source": [
    "def minkowiski_distance(X, row, p):\n",
    "    X_ = abs(X - row)**p\n",
    "    return (np.sum(X_, axis=1))**(1/p)"
   ]
  },
  {
   "cell_type": "markdown",
   "metadata": {},
   "source": [
    "### Distância 02: Euclidian\n",
    "\n",
    "A distância euclidiana é dada pela seguinte fórmula $$ d(x,y) = \\sqrt{\\sum_{i=1}^{k}(x_i - y_i)^2}$$"
   ]
  },
  {
   "cell_type": "code",
   "execution_count": 8,
   "metadata": {},
   "outputs": [],
   "source": [
    "def euclidian_distance(X, row):\n",
    "    return minkowiski_distance(X, row, 2)"
   ]
  },
  {
   "cell_type": "markdown",
   "metadata": {},
   "source": [
    "### Distância 03: Manhattan\n",
    "\n",
    "A distância Manhattan é dada pela seguinte fórmula $$ d(x,y) = \\sum_{i=1}^{k}|x_i - y_i| $$"
   ]
  },
  {
   "cell_type": "code",
   "execution_count": 9,
   "metadata": {},
   "outputs": [],
   "source": [
    "def manhattan_distance(X, row):\n",
    "    return minkowiski_distance(X,row,1)"
   ]
  },
  {
   "cell_type": "markdown",
   "metadata": {},
   "source": [
    "### Distância 04: Chebyshev\n",
    "\n",
    "A distância Chebyshev é dada pela seguinte fórmula $$ d(x,y) = \\max(|x - y|) $$"
   ]
  },
  {
   "cell_type": "code",
   "execution_count": 10,
   "metadata": {},
   "outputs": [],
   "source": [
    "def chebyshev_distance(X, row):\n",
    "    X_ = X - row\n",
    "    return np.max(X_, axis=1)"
   ]
  },
  {
   "cell_type": "markdown",
   "metadata": {},
   "source": [
    "## Questão 01: Implementar as classes KNN"
   ]
  },
  {
   "cell_type": "markdown",
   "metadata": {},
   "source": [
    "### Passo 01: Criar classe KNNModel"
   ]
  },
  {
   "cell_type": "code",
   "execution_count": 11,
   "metadata": {},
   "outputs": [],
   "source": [
    "class KNNModel_lista:\n",
    "    \n",
    "    def __init__(self, n_neighbors = 3, p = 2, metric='minkowski'):\n",
    "        self.n_neighbors = n_neighbors\n",
    "        self.p = p\n",
    "        self.metric = metric"
   ]
  },
  {
   "cell_type": "markdown",
   "metadata": {},
   "source": [
    "### Passo 02: Criar subclasse KNNClassifier"
   ]
  },
  {
   "cell_type": "code",
   "execution_count": 12,
   "metadata": {},
   "outputs": [],
   "source": [
    "class KNNClassifier_lista(KNNModel_lista):\n",
    "    \n",
    "    def __init__(self, n_neighbors = 3, p = 2, metric='minkowski'):\n",
    "        super().__init__(n_neighbors, p, metric)\n",
    "    \n",
    "    def fit(self, X, y):\n",
    "        self.X = X\n",
    "        self.y = y\n",
    "    \n",
    "    def get_idx_KNN(self, Row):\n",
    "        neighbors = []\n",
    "\n",
    "        if(self.metric == 'minkowski'):\n",
    "            for line in Row:\n",
    "                dist = minkowiski_distance(self.X, line,self.p)\n",
    "                idx_sort = np.argsort(dist)\n",
    "                neighbors.append(idx_sort[0:self.n_neighbors])\n",
    "        elif(self.metric == 'chebyshev'):\n",
    "            for line in Row:\n",
    "                dist = chebyshev_distance(self.X, line)\n",
    "                idx_sort = np.argsort(dist)\n",
    "                neighbors.append(idx_sort[0:self.n_neighbors])\n",
    "\n",
    "        return neighbors\n",
    "    \n",
    "    def predict(self, X_test):\n",
    "        idx_kNN = self.get_idx_KNN(X_test)\n",
    "        classes = []\n",
    "        \n",
    "        for idx in idx_kNN:\n",
    "            count = np.bincount(self.y[idx])\n",
    "            classes.append(np.argmax(count))\n",
    "\n",
    "        return np.array(classes)"
   ]
  },
  {
   "cell_type": "markdown",
   "metadata": {},
   "source": [
    "### Passo 03: Criar subclasse KNNRegressor"
   ]
  },
  {
   "cell_type": "code",
   "execution_count": 13,
   "metadata": {},
   "outputs": [],
   "source": [
    "class KNNRegressor_lista(KNNModel_lista):\n",
    "    \n",
    "    def __init__(self, n_neighbors = 3, p = 2, metric='minkowski'):\n",
    "        super().__init__(n_neighbors, p, metric)\n",
    "    \n",
    "    def fit(self, X, y):\n",
    "        self.X = X\n",
    "        self.y = y\n",
    "    \n",
    "    def get_idx_KNN(self, Row):\n",
    "        neighbors = []\n",
    "\n",
    "        if(self.metric == 'minkowski'):\n",
    "            for line in Row:\n",
    "                dist = minkowiski_distance(self.X, line,self.p)\n",
    "                idx_sort = np.argsort(dist)\n",
    "                neighbors.append(idx_sort[0:self.n_neighbors])\n",
    "        elif(self.metric == 'chebyshev'):\n",
    "            for line in Row:\n",
    "                dist = chebyshev_distance(self.X, line)\n",
    "                idx_sort = np.argsort(dist)\n",
    "                neighbors.append(idx_sort[0:self.n_neighbors])\n",
    "\n",
    "        return neighbors\n",
    "    \n",
    "    def predict(self, X_test):\n",
    "        idx_kNN = self.get_idx_KNN(X_test)\n",
    "        reg = []\n",
    "        \n",
    "        for idx in idx_kNN:\n",
    "            reg.append(np.mean(self.y[idx]))\n",
    "        \n",
    "        return np.array(reg)"
   ]
  },
  {
   "cell_type": "markdown",
   "metadata": {},
   "source": [
    "## Questão 02: Instanciar e avaliar modelos"
   ]
  },
  {
   "cell_type": "markdown",
   "metadata": {},
   "source": [
    "### Passo 01: Separar dados de entrada e saída"
   ]
  },
  {
   "cell_type": "code",
   "execution_count": 14,
   "metadata": {},
   "outputs": [],
   "source": [
    "X = flowers.values[:, :-1]\n",
    "y = flowers.values[:, -1].astype(int)"
   ]
  },
  {
   "cell_type": "markdown",
   "metadata": {},
   "source": [
    "### Passo 02: Criar conjunto de treino e teste"
   ]
  },
  {
   "cell_type": "code",
   "execution_count": 15,
   "metadata": {},
   "outputs": [],
   "source": [
    "X_train, X_test, y_train, y_test = train_test_split(X, y, test_size = 0.9, stratify = y, random_state=42)"
   ]
  },
  {
   "cell_type": "markdown",
   "metadata": {},
   "source": [
    "### Passo 03: Standardizar as features"
   ]
  },
  {
   "cell_type": "code",
   "execution_count": 16,
   "metadata": {},
   "outputs": [],
   "source": [
    "ss = StandardScaler()\n",
    "X_train = ss.fit_transform(X_train)\n",
    "X_test = ss.transform(X_test)"
   ]
  },
  {
   "cell_type": "markdown",
   "metadata": {},
   "source": [
    "### Passo 04: Instanciar modelos"
   ]
  },
  {
   "cell_type": "markdown",
   "metadata": {},
   "source": [
    "#### Feitos na Lista"
   ]
  },
  {
   "cell_type": "code",
   "execution_count": 17,
   "metadata": {},
   "outputs": [],
   "source": [
    "model_list = {}\n",
    "model_list['k1p1'] = KNNClassifier_lista(n_neighbors=1, p=1)\n",
    "model_list['k1p2'] = KNNClassifier_lista(n_neighbors=1, p=2)\n",
    "model_list['k1cheb'] = KNNClassifier_lista(n_neighbors=1, metric='chebyshev')\n",
    "\n",
    "model_list['k3p1'] = KNNClassifier_lista(n_neighbors=3, p=1)\n",
    "model_list['k3p2'] = KNNClassifier_lista(n_neighbors=3, p=2)\n",
    "model_list['k3cheb'] = KNNClassifier_lista(n_neighbors=3, metric='chebyshev')\n",
    "\n",
    "model_list['k5p1'] = KNNClassifier_lista(n_neighbors=5, p=1)\n",
    "model_list['k5p2'] = KNNClassifier_lista(n_neighbors=5, p=2)\n",
    "model_list['k5cheb'] = KNNClassifier_lista(n_neighbors=5, metric='chebyshev')"
   ]
  },
  {
   "cell_type": "markdown",
   "metadata": {},
   "source": [
    "#### Do SckitLearn"
   ]
  },
  {
   "cell_type": "code",
   "execution_count": 18,
   "metadata": {},
   "outputs": [],
   "source": [
    "model_sckit = {}\n",
    "model_sckit['k1p1'] = KNeighborsClassifier(n_neighbors=1, p=1)\n",
    "model_sckit['k1p2'] = KNeighborsClassifier(n_neighbors=1, p=2)\n",
    "model_sckit['k1cheb'] = KNeighborsClassifier(n_neighbors=1, metric='chebyshev')\n",
    "\n",
    "model_sckit['k3p1'] = KNeighborsClassifier(n_neighbors=3, p=1)\n",
    "model_sckit['k3p2'] = KNeighborsClassifier(n_neighbors=3, p=2)\n",
    "model_sckit['k3cheb'] = KNeighborsClassifier(n_neighbors=3, metric='chebyshev')\n",
    "\n",
    "model_sckit['k5p1'] = KNeighborsClassifier(n_neighbors=5, p=1)\n",
    "model_sckit['k5p2'] = KNeighborsClassifier(n_neighbors=5, p=2)\n",
    "model_sckit['k5cheb'] = KNeighborsClassifier(n_neighbors=5, metric='chebyshev')"
   ]
  },
  {
   "cell_type": "markdown",
   "metadata": {},
   "source": [
    "### Passo 05: Fazer a predição com os modelos"
   ]
  },
  {
   "cell_type": "code",
   "execution_count": 19,
   "metadata": {},
   "outputs": [],
   "source": [
    "y_pred_list = {}\n",
    "y_pred_sckit = {}"
   ]
  },
  {
   "cell_type": "code",
   "execution_count": 20,
   "metadata": {},
   "outputs": [],
   "source": [
    "for key in model_list:\n",
    "    model_list[key].fit(X_train, y_train)\n",
    "    model_sckit[key].fit(X_train, y_train)\n",
    "    \n",
    "    y_pred_list[key] = model_list[key].predict(X_test)\n",
    "    y_pred_sckit[key] = model_sckit[key].predict(X_test)"
   ]
  },
  {
   "cell_type": "markdown",
   "metadata": {},
   "source": [
    "### Passo 06: Comparar resultados entre implementações"
   ]
  },
  {
   "cell_type": "code",
   "execution_count": 23,
   "metadata": {},
   "outputs": [
    {
     "name": "stdout",
     "output_type": "stream",
     "text": [
      "MODEL: k1p1 | ACC: 0.9555555555555556\n",
      "MODEL: k1p2 | ACC: 0.9555555555555556\n",
      "MODEL: k1cheb | ACC: 0.6074074074074074\n",
      "MODEL: k3p1 | ACC: 0.9259259259259259\n",
      "MODEL: k3p2 | ACC: 0.8888888888888888\n",
      "MODEL: k3cheb | ACC: 0.5925925925925926\n",
      "MODEL: k5p1 | ACC: 0.8962962962962963\n",
      "MODEL: k5p2 | ACC: 0.8814814814814815\n",
      "MODEL: k5cheb | ACC: 0.6222222222222222\n"
     ]
    }
   ],
   "source": [
    "for key in y_pred_list:\n",
    "    print(\"MODEL: {} | ACC: {}\" .format(key,accuracy_score(y_test, y_pred_list[key])))"
   ]
  },
  {
   "cell_type": "code",
   "execution_count": 24,
   "metadata": {},
   "outputs": [
    {
     "name": "stdout",
     "output_type": "stream",
     "text": [
      "MODEL: k1p1 | ACC: 0.9555555555555556\n",
      "MODEL: k1p2 | ACC: 0.9555555555555556\n",
      "MODEL: k1cheb | ACC: 0.9111111111111111\n",
      "MODEL: k3p1 | ACC: 0.9259259259259259\n",
      "MODEL: k3p2 | ACC: 0.8888888888888888\n",
      "MODEL: k3cheb | ACC: 0.7851851851851852\n",
      "MODEL: k5p1 | ACC: 0.8962962962962963\n",
      "MODEL: k5p2 | ACC: 0.8814814814814815\n",
      "MODEL: k5cheb | ACC: 0.7851851851851852\n"
     ]
    }
   ],
   "source": [
    "for key in y_pred_sckit:\n",
    "    print(\"MODEL: {} | ACC: {}\" .format(key,accuracy_score(y_test, y_pred_sckit[key])))"
   ]
  },
  {
   "cell_type": "markdown",
   "metadata": {},
   "source": [
    "Para analisar os modelos, escolhemos a acurácia como métrica. É possível observar que os modelos implementados por nós e os implementados pelo sklearn apresentaram os mesmos valores de acurácia, exceto quando a distância utilizada foi a chebyshev - nesse caso, o modelo do sklearn apresentou acurácia maior. Além disso, a maior acurácia foi obtida quando utilizamos k = 1 e p = 1 ou p = 2, em ambos os modelos. Isso mostra que as implementações da distância Chebyshev apresentam diferenças."
   ]
  }
 ],
 "metadata": {
  "kernelspec": {
   "display_name": "Python 3",
   "language": "python",
   "name": "python3"
  },
  "language_info": {
   "codemirror_mode": {
    "name": "ipython",
    "version": 3
   },
   "file_extension": ".py",
   "mimetype": "text/x-python",
   "name": "python",
   "nbconvert_exporter": "python",
   "pygments_lexer": "ipython3",
   "version": "3.7.1"
  }
 },
 "nbformat": 4,
 "nbformat_minor": 2
}
