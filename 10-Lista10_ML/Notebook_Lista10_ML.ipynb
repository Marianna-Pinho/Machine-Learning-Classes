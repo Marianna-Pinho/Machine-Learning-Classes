{
 "cells": [
  {
   "cell_type": "markdown",
   "metadata": {},
   "source": [
    "## <center> Lista 10 - Aprendizado de Máquina </center>\n",
    "\n",
    "**Aluno(a):** Marianna de Pinho Severo <br>\n",
    "**Matrícula:** 374856 <br>\n",
    "**Professor(a):** Regis Pires"
   ]
  },
  {
   "cell_type": "markdown",
   "metadata": {},
   "source": [
    "Suponha que a internet caiu no Campus Quixadá e você quer fazer uma consulta através de palavras chave sobre as reviews de filmes do IMDB. O objetivo dessa lista é aplicarmos os conceitos de distância e processamendo de texto, mostrando as 10 reviews mais semelhantes a uma consulta que realizaremos, a qual será composta por algumas palavras-chave."
   ]
  },
  {
   "cell_type": "markdown",
   "metadata": {},
   "source": [
    "### Passo 01: Importar Bibliotecas"
   ]
  },
  {
   "cell_type": "code",
   "execution_count": 1,
   "metadata": {},
   "outputs": [],
   "source": [
    "%matplotlib inline\n",
    "import pandas as pd\n",
    "import numpy as np\n",
    "import matplotlib.pyplot as plt\n",
    "from sklearn.feature_extraction.text import TfidfVectorizer\n",
    "from sklearn import metrics\n",
    "import re\n",
    "from nltk.stem.porter import PorterStemmer\n",
    "from nltk.tokenize import sent_tokenize, word_tokenize\n",
    "import nltk\n",
    "#nltk.download()"
   ]
  },
  {
   "cell_type": "markdown",
   "metadata": {},
   "source": [
    "## 1) Definir consulta\n",
    "\n",
    "Aqui definiremos as palavras-chave que servirão de comparação com as reviews."
   ]
  },
  {
   "cell_type": "code",
   "execution_count": 2,
   "metadata": {},
   "outputs": [
    {
     "data": {
      "text/plain": [
       "'good soundtrack great interesting scenes lovely need improvements movie'"
      ]
     },
     "execution_count": 2,
     "metadata": {},
     "output_type": "execute_result"
    }
   ],
   "source": [
    "consultas = 'good soundtrack great interesting scenes lovely need improvements movie'\n",
    "consultas"
   ]
  },
  {
   "cell_type": "markdown",
   "metadata": {},
   "source": [
    "### Passo 02: Carregar conjunto de dados"
   ]
  },
  {
   "cell_type": "code",
   "execution_count": 3,
   "metadata": {},
   "outputs": [],
   "source": [
    "reviews = pd.read_csv(\"movie_data.csv.gz\")"
   ]
  },
  {
   "cell_type": "code",
   "execution_count": 4,
   "metadata": {},
   "outputs": [
    {
     "data": {
      "text/html": [
       "<div>\n",
       "<style scoped>\n",
       "    .dataframe tbody tr th:only-of-type {\n",
       "        vertical-align: middle;\n",
       "    }\n",
       "\n",
       "    .dataframe tbody tr th {\n",
       "        vertical-align: top;\n",
       "    }\n",
       "\n",
       "    .dataframe thead th {\n",
       "        text-align: right;\n",
       "    }\n",
       "</style>\n",
       "<table border=\"1\" class=\"dataframe\">\n",
       "  <thead>\n",
       "    <tr style=\"text-align: right;\">\n",
       "      <th></th>\n",
       "      <th>review</th>\n",
       "      <th>sentiment</th>\n",
       "    </tr>\n",
       "  </thead>\n",
       "  <tbody>\n",
       "    <tr>\n",
       "      <th>0</th>\n",
       "      <td>In 1974, the teenager Martha Moxley (Maggie Gr...</td>\n",
       "      <td>1</td>\n",
       "    </tr>\n",
       "    <tr>\n",
       "      <th>1</th>\n",
       "      <td>OK... so... I really like Kris Kristofferson a...</td>\n",
       "      <td>0</td>\n",
       "    </tr>\n",
       "    <tr>\n",
       "      <th>2</th>\n",
       "      <td>***SPOILER*** Do not read this, if you think a...</td>\n",
       "      <td>0</td>\n",
       "    </tr>\n",
       "    <tr>\n",
       "      <th>3</th>\n",
       "      <td>hi for all the people who have seen this wonde...</td>\n",
       "      <td>1</td>\n",
       "    </tr>\n",
       "    <tr>\n",
       "      <th>4</th>\n",
       "      <td>I recently bought the DVD, forgetting just how...</td>\n",
       "      <td>0</td>\n",
       "    </tr>\n",
       "  </tbody>\n",
       "</table>\n",
       "</div>"
      ],
      "text/plain": [
       "                                              review  sentiment\n",
       "0  In 1974, the teenager Martha Moxley (Maggie Gr...          1\n",
       "1  OK... so... I really like Kris Kristofferson a...          0\n",
       "2  ***SPOILER*** Do not read this, if you think a...          0\n",
       "3  hi for all the people who have seen this wonde...          1\n",
       "4  I recently bought the DVD, forgetting just how...          0"
      ]
     },
     "execution_count": 4,
     "metadata": {},
     "output_type": "execute_result"
    }
   ],
   "source": [
    "reviews.head()"
   ]
  },
  {
   "cell_type": "markdown",
   "metadata": {},
   "source": [
    "### Passo 03: Capturar apenas uma parte do conjunto de dados para ser usada\n",
    "\n",
    "Conforme podemos observar abaixo, o conjunto de dados possui 50000 documentos, ou seja, linhas. Isso faz com que o poder computacional necessário para processar todos esses dados seja um pouco mais elevado, aumentando o tempo para a realização das atividades. Dessa forma, utilizaremos apenas uma parte do conjunto de dados, com o objetivo de ganhar tempo enquanto colocamos em prática os conhecimentos cobrados nesta lista."
   ]
  },
  {
   "cell_type": "code",
   "execution_count": 5,
   "metadata": {},
   "outputs": [
    {
     "name": "stdout",
     "output_type": "stream",
     "text": [
      "<class 'pandas.core.frame.DataFrame'>\n",
      "RangeIndex: 50000 entries, 0 to 49999\n",
      "Data columns (total 2 columns):\n",
      "review       50000 non-null object\n",
      "sentiment    50000 non-null int64\n",
      "dtypes: int64(1), object(1)\n",
      "memory usage: 781.3+ KB\n"
     ]
    }
   ],
   "source": [
    "reviews.info()"
   ]
  },
  {
   "cell_type": "code",
   "execution_count": 6,
   "metadata": {},
   "outputs": [],
   "source": [
    "reviews = reviews[:1000]"
   ]
  },
  {
   "cell_type": "markdown",
   "metadata": {},
   "source": [
    "Além das 1000 linhas do conjunto de dados, adicionaremos mais uma linha, correspondente à consulta que desejamos realizar."
   ]
  },
  {
   "cell_type": "code",
   "execution_count": 7,
   "metadata": {},
   "outputs": [],
   "source": [
    "reviews.loc[1000] = consultas"
   ]
  },
  {
   "cell_type": "code",
   "execution_count": 8,
   "metadata": {},
   "outputs": [
    {
     "name": "stdout",
     "output_type": "stream",
     "text": [
      "<class 'pandas.core.frame.DataFrame'>\n",
      "Int64Index: 1001 entries, 0 to 1000\n",
      "Data columns (total 2 columns):\n",
      "review       1001 non-null object\n",
      "sentiment    1001 non-null object\n",
      "dtypes: object(2)\n",
      "memory usage: 23.5+ KB\n"
     ]
    }
   ],
   "source": [
    "reviews.info()"
   ]
  },
  {
   "cell_type": "markdown",
   "metadata": {},
   "source": [
    "### Passo 04: Limpar o conjunto de dados"
   ]
  },
  {
   "cell_type": "markdown",
   "metadata": {},
   "source": [
    "Conforme podemos ver no exemplo abaixo, o conjunto de dados vem com algumas expressões que não são desejadas, como, por exemplo, tags html. Então, para que possamos aproveitar melhor os textos que possuímos, precisamos limpá-los, retirando todas as expressões que não são desejadas."
   ]
  },
  {
   "cell_type": "code",
   "execution_count": 9,
   "metadata": {},
   "outputs": [
    {
     "data": {
      "text/plain": [
       "'is seven.<br /><br />Title (Brazil): Not Available'"
      ]
     },
     "execution_count": 9,
     "metadata": {},
     "output_type": "execute_result"
    }
   ],
   "source": [
    "piece = reviews.loc[0, 'review'][-50:]\n",
    "piece"
   ]
  },
  {
   "cell_type": "markdown",
   "metadata": {},
   "source": [
    "Para limparmos os textos, utilizaremos a função abaixo, cuja implementação foi retirada de [Chapter 8 - Applying Machine Learning To Sentiment Analysis](https://nbviewer.jupyter.org/github/rasbt/python-machine-learning-book-2nd-edition/blob/master/code/ch08/ch08.ipynb)."
   ]
  },
  {
   "cell_type": "code",
   "execution_count": 10,
   "metadata": {},
   "outputs": [],
   "source": [
    "def preprocessor(text):\n",
    "    text = re.sub('<[^>]*>', '', text)\n",
    "    emoticons = re.findall('(?::|;|=)(?:-)?(?:\\)|\\(|D|P)',\n",
    "                           text)\n",
    "    text = (re.sub('[\\W]+', ' ', text.lower()))\n",
    "    return text"
   ]
  },
  {
   "cell_type": "markdown",
   "metadata": {},
   "source": [
    "Aplicando a função **preprocessor** no pedaço de texto que separamos acima, obtemos o seguinte resultado:"
   ]
  },
  {
   "cell_type": "code",
   "execution_count": 11,
   "metadata": {},
   "outputs": [
    {
     "data": {
      "text/plain": [
       "'is seven title brazil not available'"
      ]
     },
     "execution_count": 11,
     "metadata": {},
     "output_type": "execute_result"
    }
   ],
   "source": [
    "preprocessor(piece)"
   ]
  },
  {
   "cell_type": "markdown",
   "metadata": {},
   "source": [
    "Agora, aplicaremos o **preprocessor** em todo o conjunto de dados."
   ]
  },
  {
   "cell_type": "code",
   "execution_count": 12,
   "metadata": {},
   "outputs": [],
   "source": [
    "reviews['review'] = reviews['review'].apply(preprocessor)"
   ]
  },
  {
   "cell_type": "code",
   "execution_count": 13,
   "metadata": {},
   "outputs": [
    {
     "data": {
      "text/plain": [
       "'zation my vote is seven title brazil not available'"
      ]
     },
     "execution_count": 13,
     "metadata": {},
     "output_type": "execute_result"
    }
   ],
   "source": [
    "reviews.loc[0, 'review'][-50:]"
   ]
  },
  {
   "cell_type": "markdown",
   "metadata": {},
   "source": [
    "### Passo 05: Stemização dos dados\n",
    "\n",
    "Em um texto, várias palavras são derivadas uma das outras, apresentando aproximadamente o mesmo sentido. Isso é melhor explicado em [Stemming and Lemmatization in Python](https://www.datacamp.com/community/tutorials/stemming-lemmatization-python). Então, realizaremos a Stemização, ou normalização do texto, contribuindo para o cálculo de sua similaridade. Para isso, utilizaremos a função abaixo, retirada do mesmo link já citado."
   ]
  },
  {
   "cell_type": "code",
   "execution_count": 14,
   "metadata": {},
   "outputs": [],
   "source": [
    "porter = PorterStemmer()\n",
    "def stemSentence(sentence):\n",
    "    token_words=word_tokenize(sentence)\n",
    "    token_words\n",
    "    stem_sentence=[]\n",
    "    for word in token_words:\n",
    "        stem_sentence.append(porter.stem(word))\n",
    "        stem_sentence.append(\" \")\n",
    "    return \"\".join(stem_sentence)"
   ]
  },
  {
   "cell_type": "code",
   "execution_count": 15,
   "metadata": {},
   "outputs": [
    {
     "data": {
      "text/html": [
       "<div>\n",
       "<style scoped>\n",
       "    .dataframe tbody tr th:only-of-type {\n",
       "        vertical-align: middle;\n",
       "    }\n",
       "\n",
       "    .dataframe tbody tr th {\n",
       "        vertical-align: top;\n",
       "    }\n",
       "\n",
       "    .dataframe thead th {\n",
       "        text-align: right;\n",
       "    }\n",
       "</style>\n",
       "<table border=\"1\" class=\"dataframe\">\n",
       "  <thead>\n",
       "    <tr style=\"text-align: right;\">\n",
       "      <th></th>\n",
       "      <th>review</th>\n",
       "      <th>sentiment</th>\n",
       "    </tr>\n",
       "  </thead>\n",
       "  <tbody>\n",
       "    <tr>\n",
       "      <th>0</th>\n",
       "      <td>in 1974 the teenager martha moxley maggie grac...</td>\n",
       "      <td>1</td>\n",
       "    </tr>\n",
       "    <tr>\n",
       "      <th>1</th>\n",
       "      <td>ok so i really like kris kristofferson and his...</td>\n",
       "      <td>0</td>\n",
       "    </tr>\n",
       "    <tr>\n",
       "      <th>2</th>\n",
       "      <td>spoiler do not read this if you think about w...</td>\n",
       "      <td>0</td>\n",
       "    </tr>\n",
       "    <tr>\n",
       "      <th>3</th>\n",
       "      <td>hi for all the people who have seen this wonde...</td>\n",
       "      <td>1</td>\n",
       "    </tr>\n",
       "    <tr>\n",
       "      <th>4</th>\n",
       "      <td>i recently bought the dvd forgetting just how ...</td>\n",
       "      <td>0</td>\n",
       "    </tr>\n",
       "  </tbody>\n",
       "</table>\n",
       "</div>"
      ],
      "text/plain": [
       "                                              review sentiment\n",
       "0  in 1974 the teenager martha moxley maggie grac...         1\n",
       "1  ok so i really like kris kristofferson and his...         0\n",
       "2   spoiler do not read this if you think about w...         0\n",
       "3  hi for all the people who have seen this wonde...         1\n",
       "4  i recently bought the dvd forgetting just how ...         0"
      ]
     },
     "execution_count": 15,
     "metadata": {},
     "output_type": "execute_result"
    }
   ],
   "source": [
    "reviews.head()"
   ]
  },
  {
   "cell_type": "code",
   "execution_count": 16,
   "metadata": {},
   "outputs": [],
   "source": [
    "text_review = reviews['review'].values\n",
    "normalized_text = []\n",
    "for text in text_review:\n",
    "    normalized_text.append(stemSentence(text))"
   ]
  },
  {
   "cell_type": "code",
   "execution_count": 17,
   "metadata": {},
   "outputs": [],
   "source": [
    " reviews['review'] = normalized_text"
   ]
  },
  {
   "cell_type": "code",
   "execution_count": 18,
   "metadata": {},
   "outputs": [
    {
     "data": {
      "text/html": [
       "<div>\n",
       "<style scoped>\n",
       "    .dataframe tbody tr th:only-of-type {\n",
       "        vertical-align: middle;\n",
       "    }\n",
       "\n",
       "    .dataframe tbody tr th {\n",
       "        vertical-align: top;\n",
       "    }\n",
       "\n",
       "    .dataframe thead th {\n",
       "        text-align: right;\n",
       "    }\n",
       "</style>\n",
       "<table border=\"1\" class=\"dataframe\">\n",
       "  <thead>\n",
       "    <tr style=\"text-align: right;\">\n",
       "      <th></th>\n",
       "      <th>review</th>\n",
       "      <th>sentiment</th>\n",
       "    </tr>\n",
       "  </thead>\n",
       "  <tbody>\n",
       "    <tr>\n",
       "      <th>0</th>\n",
       "      <td>in 1974 the teenag martha moxley maggi grace m...</td>\n",
       "      <td>1</td>\n",
       "    </tr>\n",
       "    <tr>\n",
       "      <th>1</th>\n",
       "      <td>ok so i realli like kri kristofferson and hi u...</td>\n",
       "      <td>0</td>\n",
       "    </tr>\n",
       "    <tr>\n",
       "      <th>2</th>\n",
       "      <td>spoiler do not read thi if you think about wat...</td>\n",
       "      <td>0</td>\n",
       "    </tr>\n",
       "    <tr>\n",
       "      <th>3</th>\n",
       "      <td>hi for all the peopl who have seen thi wonder ...</td>\n",
       "      <td>1</td>\n",
       "    </tr>\n",
       "    <tr>\n",
       "      <th>4</th>\n",
       "      <td>i recent bought the dvd forget just how much i...</td>\n",
       "      <td>0</td>\n",
       "    </tr>\n",
       "  </tbody>\n",
       "</table>\n",
       "</div>"
      ],
      "text/plain": [
       "                                              review sentiment\n",
       "0  in 1974 the teenag martha moxley maggi grace m...         1\n",
       "1  ok so i realli like kri kristofferson and hi u...         0\n",
       "2  spoiler do not read thi if you think about wat...         0\n",
       "3  hi for all the peopl who have seen thi wonder ...         1\n",
       "4  i recent bought the dvd forget just how much i...         0"
      ]
     },
     "execution_count": 18,
     "metadata": {},
     "output_type": "execute_result"
    }
   ],
   "source": [
    "reviews.head()"
   ]
  },
  {
   "cell_type": "markdown",
   "metadata": {},
   "source": [
    "### Passo 06: Vetorizar reviews"
   ]
  },
  {
   "cell_type": "markdown",
   "metadata": {},
   "source": [
    "Uma das formas que temos para trabalhar com processamento de texto em aprendizado de máquina é através de sua tokenização. Isso significa que, dado um *corpus*, que é um conjunto de dados de textos, para cada *documento*, que é cada linha desse conjunto de dados, separamos cada palavra de cada documento, criando *tokens*.\n",
    "\n",
    "Utilizando a classe  **TfidfVectorizer** podemos, além de realizar a tokenização de documentos, dizer que tokens dentro de um conjunto de dados tem maior relevância, aproveitando essa informação para diferentes tipos de aplicações. Com ela, para cada linha do conjunto de dados, atribuimos um valor a cada palavra contida no documento. Esse valor é o produto da frequência do termo (palavra) dentro do documento e o inverso da frequência desse mesmo termo entre os documentos. Ou seja, levamos em consideração tanto a quantidade de vezes que uma palavra aparece dentro de um documento, como também a quantidade de vezes que ela aparece nos outros documentos. Quanto mais essa palavra estiver nos outros documentos, menor será o valor atribuído. Ao passo que, quanto mais essa palavra aparecer no documento em observação (documento atual), maior será o valor atribuído.\n",
    "\n",
    "Ao final, teremos uma matriz em que as linhas representam os documentos, as colunas representam os tokens e os valores são aqueles resultantes da aplicação da TfidfVectorizer."
   ]
  },
  {
   "cell_type": "code",
   "execution_count": 19,
   "metadata": {},
   "outputs": [
    {
     "data": {
      "text/html": [
       "<div>\n",
       "<style scoped>\n",
       "    .dataframe tbody tr th:only-of-type {\n",
       "        vertical-align: middle;\n",
       "    }\n",
       "\n",
       "    .dataframe tbody tr th {\n",
       "        vertical-align: top;\n",
       "    }\n",
       "\n",
       "    .dataframe thead th {\n",
       "        text-align: right;\n",
       "    }\n",
       "</style>\n",
       "<table border=\"1\" class=\"dataframe\">\n",
       "  <thead>\n",
       "    <tr style=\"text-align: right;\">\n",
       "      <th></th>\n",
       "      <th>review</th>\n",
       "      <th>sentiment</th>\n",
       "    </tr>\n",
       "  </thead>\n",
       "  <tbody>\n",
       "    <tr>\n",
       "      <th>0</th>\n",
       "      <td>in 1974 the teenag martha moxley maggi grace m...</td>\n",
       "      <td>1</td>\n",
       "    </tr>\n",
       "    <tr>\n",
       "      <th>1</th>\n",
       "      <td>ok so i realli like kri kristofferson and hi u...</td>\n",
       "      <td>0</td>\n",
       "    </tr>\n",
       "    <tr>\n",
       "      <th>2</th>\n",
       "      <td>spoiler do not read thi if you think about wat...</td>\n",
       "      <td>0</td>\n",
       "    </tr>\n",
       "    <tr>\n",
       "      <th>3</th>\n",
       "      <td>hi for all the peopl who have seen thi wonder ...</td>\n",
       "      <td>1</td>\n",
       "    </tr>\n",
       "    <tr>\n",
       "      <th>4</th>\n",
       "      <td>i recent bought the dvd forget just how much i...</td>\n",
       "      <td>0</td>\n",
       "    </tr>\n",
       "  </tbody>\n",
       "</table>\n",
       "</div>"
      ],
      "text/plain": [
       "                                              review sentiment\n",
       "0  in 1974 the teenag martha moxley maggi grace m...         1\n",
       "1  ok so i realli like kri kristofferson and hi u...         0\n",
       "2  spoiler do not read thi if you think about wat...         0\n",
       "3  hi for all the peopl who have seen thi wonder ...         1\n",
       "4  i recent bought the dvd forget just how much i...         0"
      ]
     },
     "execution_count": 19,
     "metadata": {},
     "output_type": "execute_result"
    }
   ],
   "source": [
    "reviews.head()"
   ]
  },
  {
   "cell_type": "code",
   "execution_count": 20,
   "metadata": {},
   "outputs": [
    {
     "data": {
      "text/plain": [
       "array(['thi begin a wager between edgar allen poe and a journalist poe bet that the man can not spend an entir night in a creepi castl well of cours he can but will he come out unscath hard to say with all these strang peopl that aren t suppos to be there wander around includ the ici barbara steel thi is a fairli odd film in that the present is both in french and english and switch back and forth a few time perhap thi is done becaus bit of dialog were lost it s also rather dark and claustrophob be that one doesn t see much beyond a small circl of light that candl and such gener plu there s a feel of dread and impend doom pretti much at all time thi version on synaps is also uncensor and i wonder what might be censor in a film from 1964 until i saw the topless scene i guess that might be it overal thi is pretti good and in gloomi black and white barbara steel definit make the movi too 8 out of 10 ',\n",
       "       'good soundtrack great interest scene love need improv movi '],\n",
       "      dtype=object)"
      ]
     },
     "execution_count": 20,
     "metadata": {},
     "output_type": "execute_result"
    }
   ],
   "source": [
    "documents = reviews['review'].values\n",
    "documents[-2:]"
   ]
  },
  {
   "cell_type": "code",
   "execution_count": 21,
   "metadata": {},
   "outputs": [],
   "source": [
    "reviews_vet_tf = TfidfVectorizer(stop_words= 'english')\n",
    "reviews_matrix_tf = reviews_vet_tf.fit_transform(documents)"
   ]
  },
  {
   "cell_type": "code",
   "execution_count": 22,
   "metadata": {},
   "outputs": [
    {
     "name": "stdout",
     "output_type": "stream",
     "text": [
      "[[0. 0. 0. ... 0. 0. 0.]\n",
      " [0. 0. 0. ... 0. 0. 0.]\n",
      " [0. 0. 0. ... 0. 0. 0.]\n",
      " ...\n",
      " [0. 0. 0. ... 0. 0. 0.]\n",
      " [0. 0. 0. ... 0. 0. 0.]\n",
      " [0. 0. 0. ... 0. 0. 0.]]\n"
     ]
    }
   ],
   "source": [
    "print(reviews_matrix_tf.toarray())"
   ]
  },
  {
   "cell_type": "markdown",
   "metadata": {},
   "source": [
    "## 2) Consultar conjunto de dados\n",
    "\n",
    "A nossa consulta ao conjunto de dados consistirá em calcular as distâncias entre nosso conjunto de palavras chave, construído por nós para a consulta, e as reviews retiradas do conjunto de dados. Para isso, utilizaremos a **Distância Cosseno**."
   ]
  },
  {
   "cell_type": "code",
   "execution_count": 23,
   "metadata": {},
   "outputs": [],
   "source": [
    "distances = metrics.pairwise_distances(reviews_matrix_tf[:-1], Y=reviews_matrix_tf[-1], metric='cosine')"
   ]
  },
  {
   "cell_type": "code",
   "execution_count": 24,
   "metadata": {},
   "outputs": [
    {
     "data": {
      "text/plain": [
       "(1000, 1)"
      ]
     },
     "execution_count": 24,
     "metadata": {},
     "output_type": "execute_result"
    }
   ],
   "source": [
    "distances.shape"
   ]
  },
  {
   "cell_type": "markdown",
   "metadata": {},
   "source": [
    "Conforme podemos observar, a matriz gerada pelo cálculo da distância tem dimensões 1000 x 1. Isso acontece porque calculamos a distância apenas entre as reviews **reviews_matrix_tf[:-1]** e a nossa consulta **reviews_matrix_tf[-1]**. Assim, como são 1000 reviews e apenas um documento de consulta, obtemos as dimensões mostradas.\n",
    "\n",
    "Portanto, para determinarmos quais as 10 reviews mais semelhantes com a nossa consulta, podemos utilizar os valores da matriz *distances*, uma vez que é lá onde estão as distâncias entre a nossa consulta e o restante das reviews."
   ]
  },
  {
   "cell_type": "markdown",
   "metadata": {},
   "source": [
    "## 3) Mostrar as 10 reviews mais semelhantes\n",
    "\n",
    "Uma vez que estamos calculando as distâncias, as 10 reviews mais semelhantes serão aquelas que apresentam as 10 menores distâncias. Portanto, extrairemos os 10 menores valores da linha utilizada.\n",
    "\n",
    "Fazemos o reshape para transformarmos a matriz obtida em um único vetor."
   ]
  },
  {
   "cell_type": "code",
   "execution_count": 25,
   "metadata": {},
   "outputs": [],
   "source": [
    "new_dist = distances.reshape((distances.shape[0],))"
   ]
  },
  {
   "cell_type": "code",
   "execution_count": 26,
   "metadata": {},
   "outputs": [],
   "source": [
    "most_similar = np.argsort(new_dist)[:10]"
   ]
  },
  {
   "cell_type": "code",
   "execution_count": 27,
   "metadata": {},
   "outputs": [],
   "source": [
    "# dist_consulta = distances[-1]\n",
    "# dist_consulta"
   ]
  },
  {
   "cell_type": "code",
   "execution_count": 28,
   "metadata": {},
   "outputs": [],
   "source": [
    "#most_similar = np.argsort(dist_consulta)[1:11]"
   ]
  },
  {
   "cell_type": "markdown",
   "metadata": {},
   "source": [
    "Portanto, as reviews mais semelhantes à consulta realizada são as reviews presentes nas posições:"
   ]
  },
  {
   "cell_type": "code",
   "execution_count": 29,
   "metadata": {},
   "outputs": [
    {
     "data": {
      "text/plain": [
       "array([940, 322, 595, 606, 444, 802, 983, 135, 597,  59])"
      ]
     },
     "execution_count": 29,
     "metadata": {},
     "output_type": "execute_result"
    }
   ],
   "source": [
    "most_similar"
   ]
  },
  {
   "cell_type": "markdown",
   "metadata": {},
   "source": [
    "Aqui podemos ver a consulta depois de ter sido normalizada:"
   ]
  },
  {
   "cell_type": "code",
   "execution_count": 30,
   "metadata": {},
   "outputs": [
    {
     "data": {
      "text/plain": [
       "'good soundtrack great interest scene love need improv movi '"
      ]
     },
     "execution_count": 30,
     "metadata": {},
     "output_type": "execute_result"
    }
   ],
   "source": [
    "documents[-1]"
   ]
  },
  {
   "cell_type": "markdown",
   "metadata": {},
   "source": [
    "Aqui podemos ver as 10 reviews mais similares:"
   ]
  },
  {
   "cell_type": "code",
   "execution_count": 31,
   "metadata": {},
   "outputs": [
    {
     "name": "stdout",
     "output_type": "stream",
     "text": [
      "Review 940:\n",
      "i saw thi movi in 1956 and again on cabl a few day ago the movi hasn t improv with age quit the opposit it s a true spaghetti epic the trojan are heroic and likabl the greek are nasti petti and sneaki so what if pari ran off with the king s wife hey love is love \n",
      "\n",
      "Review 322:\n",
      "a fine effort for an australian show which is probabl not surpris see as there seem to be somewhat of a resurg in qualiti aussi drama dare i compar thi show to the brillianc of love my way no but it is reminisc of earli secret life of us the cast is great gibney work her magic in the first two episod i have seen the british cast is strong also especi the callum and lizzi charact but abe forsyth may be the save light not that it need save if thi show is to get anoth season i wasn t a fan of hi perform in the awesom awesom mark time mini seri a few year back but he wa great as hal in alway greener it also good to see brook satchwel again let hope the show keep improv with each episod \n",
      "\n",
      "Review 595:\n",
      "i ve never given a movi a ten out of ten befor but thi is the closest i have ever come i gave it a 9 there are veri few movi that i truli love thi howev is one of them with it s gritti realism fantast on site locat and it s great soundtrack it liter blew my young mind when i first saw it in 1979 at that point i didn t know about prison violenc racial tension or the struggl to surviv live free i doubt that anyon who is an adult or for that matter anyon who is grow up in today world could be impact by thi film in the same way i wa all those year ago but i will say thi if you haven t seen thi movi i envi you thi is becaus you have the chanc to see thi great film for the frist time for each of us they re differ but here s to the rarest movi of them all the one we actual love \n",
      "\n",
      "Review 606:\n",
      "when i first heard that jack black and kyle gass would make a movi about their band i wa freak out i love their music and i hope that thi movi would be realli funni now that i have watch it i can t realli say that these hope weren t satisfi but i think i expect more the movi is full of tenaci d s great music and i realli love listen to all of it there are a lot of great joke and i just love the stori at least the first bit i don t like the way the movi end the end is veri abrupt and in my opinion they could have extend that a bit more overal i think it is a good movi to watch everyon who like rock music should watch it it ll give you a good laugh \n",
      "\n",
      "Review 444:\n",
      "thi wa a great book and the possibl for a truli great film were definit there but the cast decis complet wreck the movi hank is a great actor to be sure but lack the smarmi moral ambival characterist need for the lead role jeff daniel would have been my choic put melani griffith in for eye candi reason is understand but again she did not portray the depth or ambival so need to pull thi off thi movi is a great exampl of how everi decis even those earli on in the movi product can make or break a file \n",
      "\n",
      "Review 802:\n",
      "thi movi had some great actor in it unfortun they had forgotten how to act i wa hope the movi would get better as it went along but the act wa so robot it wa doom from the veri start it actual appear that mayb the actor were read from a script the whole time mayb it wa the music score or the director himself but one thing is for sure the make up artist need to get anoth job the facial powder wa so thick you could see it cake on the actor face would not recommend thi movi to anyon no wonder it never hit the theater cuba good jr jame wood shame on you guy for not give it your all the plot wa great just need a whole lot more \n",
      "\n",
      "Review 983:\n",
      "i look forward to see thi movi becaus the trailer made it look so cool but the fact is that thi movi is bore and total muddl there is no plot and half the movi is fast flash shot from footbal game zoom in shot that give you no overview of the game i wa constantli look at the timer to see when the movi wa over there s onli one good thing about thi movi the sound the soundtrack is awesom don t expect anyth from thi movi \n",
      "\n",
      "Review 135:\n",
      "cinderella wa one of the first movi i ever saw and to me it is timeless it is a love look film with gorgeou anim my favourit anim scene wa the dress scene i just love those mice the song are also love not as good as snow white s but they are a delight to sing and are reminisc of tchaikovski a dream is a wish and so thi is love are standout the charact are also a delight cinderella is idealist and strong and the mice provid great comic relief the stepsist were also well done as well as lucif but i love the stepmoth the best she wa realli evil in comparison to a great charact in the name of the fairi godmoth it is true the movi drag slightli with the antic of the mice but they were genuin funni so i don t care i don t think it is overr underr don t you mean it rare play on televis but the realli bad sequel doe on cinemag on a regular basi if you want a great cinderella adapt tri the wonder ever after or the lavish slipper and the rose which isn t as good but whatev you do avoid the sequel which i have the mistak of own becaus you ll thank me 9 10 bethani cox \n",
      "\n",
      "Review 597:\n",
      "kate miller angi dickinson is have problem in her marriag and otherwis enough to see a psychologist when her promiscu get her into troubl it also involv a bystand liz blake nanci allen who becom wrap up in an investig to discov the ident of a psycho killer dress to kill is somewhat import histor it is one of the earlier exampl of a contemporari style of thriller that as of thi write ha extens all the way through hide and seek 2005 it s odd then that director brian de palma wa basic tri to crib hitchcock for exampl de palma liter lift part of vertigo 1958 for dress to kill s infam museum scene dress to kill s shower scene as well as it villain and method of death have similar to psycho 1960 de palma also employ a promin score with recurr motif in the style of hitchcock s favorit compos bernard herrmann the similar do not end there but de palma whether by accid or skill manag to make an obliqu turn from or perhap transcend hi influenc with dress to kill have an attitud structur and flow that ha been influenti mayb partial becaus of thi influenc dress to kill is also deepli flaw when view at thi point in time countless subsequ director have taken their hitchcock like de palma and hone it improv nearli everi element so that watch now after 25 year worth of influenc thriller much of dress to kill seem agonizingli pace structur clunki and plot wise inept one aspect of the film that unfortun hasn t been improv is dress to kill s sex and nuditi scene both dickinson and allen treat us to full frontal nuditi allen s be from a veri skew angl and de palma ha linger shot of dickinson s breast strongli implicit masturb and more viscer sex scene than are usual found in contemporari film quit a few scene approach soft core porn i m no fan of prudish quit the opposit our cultur s puritan monogamist shelter attitud toward sex and nuditi is disturb to me so from my perspect it s lament that dress to kill s emphasi on flesh and it pleasur is one of the few aspect in which other have not strongli follow suit or trump the film perhap it ha been desir but they have not been allow to follow suit becaus of cultur control from conserv stuf shirt de palma s direct of cinematographi and the stage of some scene are also good enough that it is difficult to do someth in the same style better than de palma doe it he ha an odd characterist approach to close up and he s fond of shot from interest angl such as overhead view and jame whale like track across distant cutaway in the set of cours later director have been flashier but it s difficult to say that they ve been better view for film make prowess at least the museum scene is remark in it abil to build veri subtl tension over a drop glove and a glanc or two while follow kate through the intric nest cube of the metropolitan museum of art on the other hand from a point of view care about the stori and especi if one is expect to watch a thriller everyth through the museum scene and slightli beyond might seem too slow and silli becaus of it remov from the main genr of the film and it primari concern with directori panach as well as cultur fact extern to the film the open seem like a not veri well integr attempt to titil and be risqué onc the first murder occur thing improv but becaus of the film s eventu influenc much of the improv now seem a bit clichéd and occasion hokey the perform are mostli good although michael cain is underus and dickinson ha to exit sooner than we d like but the exit is necessari and veri effect dress to kill is at least like to hold your interest until the end but becaus of fact not contain in the pictur itself hasn t exactli age well at thi point it is perhap best to watch the film primarili as a histor relic and as an exampl but not the best even for that era of some of de palma s directori flair \n",
      "\n",
      "Review 59:\n",
      "there is absolut no plot in thi movi no charact develop no climax noth but ha a few good fight scene that are actual pretti good so there you go as a movi overal is pretti bad but if you like a brainless flick that offer noth but just good action scene then watch thi movi do not expect noth more that just that decent act and a not so bad direct a coupl of cameo from kimbo and carano i wa look to see carano a littl bit more in thi movi she is a good fighter and a realli hot girl white is a great martial artist and a decent actor i realli hope he can land a better movi in the futur so we can realli enjoy hi art imagin a film with white and jaa togeth that would be awesom \n",
      "\n"
     ]
    }
   ],
   "source": [
    "for r in most_similar:\n",
    "    print(\"Review {}:\\n{}\\n\".format(r, documents[r]))"
   ]
  },
  {
   "cell_type": "code",
   "execution_count": null,
   "metadata": {},
   "outputs": [],
   "source": []
  }
 ],
 "metadata": {
  "kernelspec": {
   "display_name": "Python 3",
   "language": "python",
   "name": "python3"
  },
  "language_info": {
   "codemirror_mode": {
    "name": "ipython",
    "version": 3
   },
   "file_extension": ".py",
   "mimetype": "text/x-python",
   "name": "python",
   "nbconvert_exporter": "python",
   "pygments_lexer": "ipython3",
   "version": "3.7.1"
  }
 },
 "nbformat": 4,
 "nbformat_minor": 2
}
