{
 "cells": [
  {
   "cell_type": "markdown",
   "metadata": {},
   "source": [
    " # <center> Lista 03 - Aprendizado de Máquina </center>"
   ]
  },
  {
   "cell_type": "markdown",
   "metadata": {},
   "source": [
    "**Aluno(a):** Marianna de Pinho Severo <br>\n",
    "**Matrícula:** 374856 <br>\n",
    "**Professor(a):** Regis Pires"
   ]
  },
  {
   "cell_type": "markdown",
   "metadata": {},
   "source": [
    "## 1) Crie um documento do Jupyter Notebook para criar um modelo preciso de classificação para o Iris Dataset.\n",
    "O dataset foi baixado de [Iris dataset](https://archive.ics.uci.edu/ml/machine-learning-databases/iris/iris.data) e foi salvo em no arquivo *iris.csv*, em que a primeira linha indica os nomes das colunas.\n"
   ]
  },
  {
   "cell_type": "markdown",
   "metadata": {},
   "source": [
    "## 2) Baixe e carregue os dados.\n",
    "Uma vez que os dados já foram baixados, agora iremos carregá-los. Para isso, primeiramente importaremos todas as bibliotecas que serão utilizadas para essa e as outras atividades da lista."
   ]
  },
  {
   "cell_type": "markdown",
   "metadata": {},
   "source": [
    "### Passo 01: Importar bibliotecas"
   ]
  },
  {
   "cell_type": "code",
   "execution_count": 1,
   "metadata": {},
   "outputs": [],
   "source": [
    "%matplotlib inline\n",
    "import os\n",
    "import pandas as pd\n",
    "import numpy as np\n",
    "import matplotlib.pyplot as plt\n",
    "from sklearn import metrics #biblioteca utilizada para extrair as métricas de desempenho do algoritmo de aprendizagem."
   ]
  },
  {
   "cell_type": "markdown",
   "metadata": {},
   "source": [
    "### Passo 02: Criar função para carregamento dos dados\n",
    "DATASET_PATH é um define que indica onde o conjunto de dados está armazenado no computador. Nesse caso, está em uma pasta, chamada *dataset*, localizada dentro da pasta em que este notebook se encontra."
   ]
  },
  {
   "cell_type": "code",
   "execution_count": 2,
   "metadata": {},
   "outputs": [],
   "source": [
    "DATASET_PATH = \"dataset/\""
   ]
  },
  {
   "cell_type": "markdown",
   "metadata": {},
   "source": [
    "A função *load_flowers_data* é responsável por abrir o arquivo que contém o conjunto de dados, chamado *iris.csv*, e retornar seus valores no formato DataFrame, que é uma estrutura de dados de duas dimensões, cujos eixos são rotulados."
   ]
  },
  {
   "cell_type": "code",
   "execution_count": 3,
   "metadata": {},
   "outputs": [],
   "source": [
    "def load_flowers_data(dataset_path = DATASET_PATH):\n",
    "    cols = ['sepal_length','sepal_width','petal_length','petal_width','label']\n",
    "    csv_path = os.path.join(dataset_path, \"iris.csv\")\n",
    "    return pd.read_csv(csv_path, names=cols)"
   ]
  },
  {
   "cell_type": "markdown",
   "metadata": {},
   "source": [
    "### Passo 03: Carregar os dados\n",
    "Por fim, carregaremos o conjunto de dados dentro da variável *flowers*, que será utilizada para a realização das próximas operações."
   ]
  },
  {
   "cell_type": "code",
   "execution_count": 4,
   "metadata": {},
   "outputs": [],
   "source": [
    "flowers = load_flowers_data()"
   ]
  },
  {
   "cell_type": "markdown",
   "metadata": {},
   "source": [
    "## 3) Faça uma breve análise dos dados.\n",
    "Nessa etapa, utilizaremos algumas das funções apresentadas no Capítulo 02 do livro **Hands-On Machine Learning with Scikit-Learn and TensorFlow** para uma breve visualização e análise do conjunto de dados."
   ]
  },
  {
   "cell_type": "markdown",
   "metadata": {},
   "source": [
    "### Passo 01: Método head()\n",
    "O conjunto de dados (*dataset*) está armazenado na variável *flowers*. Com o método *head()*, apresentamos as cinco primeiras linhas desse conjunto, em formato de tabela. Nela, é possível ver que o conjunto de dados possui quatro atributos, que são o **comprimento da sépala**, a **largura da sépala**, o **comprimento da pétala** e a **largura da pétala**, todos expressos em centímetros. Além disso, a partir desses atributos, os dados podem ser classificados em três classes: **Iris-setosa**, **Iris-versicolor** e **Iris-virginica**, apresentadas na última coluna (label)."
   ]
  },
  {
   "cell_type": "code",
   "execution_count": 5,
   "metadata": {},
   "outputs": [
    {
     "data": {
      "text/html": [
       "<div>\n",
       "<style scoped>\n",
       "    .dataframe tbody tr th:only-of-type {\n",
       "        vertical-align: middle;\n",
       "    }\n",
       "\n",
       "    .dataframe tbody tr th {\n",
       "        vertical-align: top;\n",
       "    }\n",
       "\n",
       "    .dataframe thead th {\n",
       "        text-align: right;\n",
       "    }\n",
       "</style>\n",
       "<table border=\"1\" class=\"dataframe\">\n",
       "  <thead>\n",
       "    <tr style=\"text-align: right;\">\n",
       "      <th></th>\n",
       "      <th>sepal_length</th>\n",
       "      <th>sepal_width</th>\n",
       "      <th>petal_length</th>\n",
       "      <th>petal_width</th>\n",
       "      <th>label</th>\n",
       "    </tr>\n",
       "  </thead>\n",
       "  <tbody>\n",
       "    <tr>\n",
       "      <th>0</th>\n",
       "      <td>5.1</td>\n",
       "      <td>3.5</td>\n",
       "      <td>1.4</td>\n",
       "      <td>0.2</td>\n",
       "      <td>Iris-setosa</td>\n",
       "    </tr>\n",
       "    <tr>\n",
       "      <th>1</th>\n",
       "      <td>4.9</td>\n",
       "      <td>3.0</td>\n",
       "      <td>1.4</td>\n",
       "      <td>0.2</td>\n",
       "      <td>Iris-setosa</td>\n",
       "    </tr>\n",
       "    <tr>\n",
       "      <th>2</th>\n",
       "      <td>4.7</td>\n",
       "      <td>3.2</td>\n",
       "      <td>1.3</td>\n",
       "      <td>0.2</td>\n",
       "      <td>Iris-setosa</td>\n",
       "    </tr>\n",
       "    <tr>\n",
       "      <th>3</th>\n",
       "      <td>4.6</td>\n",
       "      <td>3.1</td>\n",
       "      <td>1.5</td>\n",
       "      <td>0.2</td>\n",
       "      <td>Iris-setosa</td>\n",
       "    </tr>\n",
       "    <tr>\n",
       "      <th>4</th>\n",
       "      <td>5.0</td>\n",
       "      <td>3.6</td>\n",
       "      <td>1.4</td>\n",
       "      <td>0.2</td>\n",
       "      <td>Iris-setosa</td>\n",
       "    </tr>\n",
       "  </tbody>\n",
       "</table>\n",
       "</div>"
      ],
      "text/plain": [
       "   sepal_length  sepal_width  petal_length  petal_width        label\n",
       "0           5.1          3.5           1.4          0.2  Iris-setosa\n",
       "1           4.9          3.0           1.4          0.2  Iris-setosa\n",
       "2           4.7          3.2           1.3          0.2  Iris-setosa\n",
       "3           4.6          3.1           1.5          0.2  Iris-setosa\n",
       "4           5.0          3.6           1.4          0.2  Iris-setosa"
      ]
     },
     "execution_count": 5,
     "metadata": {},
     "output_type": "execute_result"
    }
   ],
   "source": [
    "flowers.head()"
   ]
  },
  {
   "cell_type": "markdown",
   "metadata": {},
   "source": [
    "### Passo 02: Método info()\n",
    "Utilizando o método *info()*, obtemos uma descrição rápida dos dados. É possível observar que o *dataset* possui 150 linhas, sendo elas numeradas de 0 a 149; que ele possui cinco colunas, em que as quatro primeiras são para os atributos e a última é para o *label*, ou classe, dos dados; que os atributos são do tipo *float* e a classe é do tipo objeto; também é possível observar que todas as linhas estão preenchidas, o que significa que não há linhas nem colunas sem valores."
   ]
  },
  {
   "cell_type": "code",
   "execution_count": 6,
   "metadata": {},
   "outputs": [
    {
     "name": "stdout",
     "output_type": "stream",
     "text": [
      "<class 'pandas.core.frame.DataFrame'>\n",
      "RangeIndex: 150 entries, 0 to 149\n",
      "Data columns (total 5 columns):\n",
      "sepal_length    150 non-null float64\n",
      "sepal_width     150 non-null float64\n",
      "petal_length    150 non-null float64\n",
      "petal_width     150 non-null float64\n",
      "label           150 non-null object\n",
      "dtypes: float64(4), object(1)\n",
      "memory usage: 5.9+ KB\n"
     ]
    }
   ],
   "source": [
    "flowers.info()"
   ]
  },
  {
   "cell_type": "markdown",
   "metadata": {},
   "source": [
    "### Passo 03: Método value_counts()\n",
    "Utilizando o método *value_counts()*, é possível observarmos quais classes existem no conjunto de dados e quantas linhas correspondem a cada uma delas."
   ]
  },
  {
   "cell_type": "code",
   "execution_count": 7,
   "metadata": {},
   "outputs": [
    {
     "data": {
      "text/plain": [
       "Iris-versicolor    50\n",
       "Iris-virginica     50\n",
       "Iris-setosa        50\n",
       "Name: label, dtype: int64"
      ]
     },
     "execution_count": 7,
     "metadata": {},
     "output_type": "execute_result"
    }
   ],
   "source": [
    "flowers[\"label\"].value_counts()"
   ]
  },
  {
   "cell_type": "markdown",
   "metadata": {},
   "source": [
    "Utilizando o método *plot()*, com a configuração **kind='bar'**, podemos visualizar as informações apresentadas pelo método *value_counts()* em um gráfico de barras, conforme pode ser observado abaixo."
   ]
  },
  {
   "cell_type": "code",
   "execution_count": 8,
   "metadata": {},
   "outputs": [
    {
     "data": {
      "image/png": "[encoded data removed]",
      "text/plain": [
       "<Figure size 432x288 with 1 Axes>"
      ]
     },
     "metadata": {
      "needs_background": "light"
     },
     "output_type": "display_data"
    }
   ],
   "source": [
    "flowers['label'].value_counts().plot(kind='bar');"
   ]
  },
  {
   "cell_type": "markdown",
   "metadata": {},
   "source": [
    "### Passo 04: Método describe()\n",
    "Com o método *describe()*, uma tabela com um resumo de todos os dados do *dataset* é mostrada. A linha **std** indica o *desvio padrão* dos dados. Já, as linhas **25%**, **50%** e **75%** indicam os percentis, que são valores abaixo dos quais uma determinada porcentagem de observações em um grupo recai."
   ]
  },
  {
   "cell_type": "code",
   "execution_count": 9,
   "metadata": {},
   "outputs": [
    {
     "data": {
      "text/html": [
       "<div>\n",
       "<style scoped>\n",
       "    .dataframe tbody tr th:only-of-type {\n",
       "        vertical-align: middle;\n",
       "    }\n",
       "\n",
       "    .dataframe tbody tr th {\n",
       "        vertical-align: top;\n",
       "    }\n",
       "\n",
       "    .dataframe thead th {\n",
       "        text-align: right;\n",
       "    }\n",
       "</style>\n",
       "<table border=\"1\" class=\"dataframe\">\n",
       "  <thead>\n",
       "    <tr style=\"text-align: right;\">\n",
       "      <th></th>\n",
       "      <th>sepal_length</th>\n",
       "      <th>sepal_width</th>\n",
       "      <th>petal_length</th>\n",
       "      <th>petal_width</th>\n",
       "    </tr>\n",
       "  </thead>\n",
       "  <tbody>\n",
       "    <tr>\n",
       "      <th>count</th>\n",
       "      <td>150.000000</td>\n",
       "      <td>150.000000</td>\n",
       "      <td>150.000000</td>\n",
       "      <td>150.000000</td>\n",
       "    </tr>\n",
       "    <tr>\n",
       "      <th>mean</th>\n",
       "      <td>5.843333</td>\n",
       "      <td>3.054000</td>\n",
       "      <td>3.758667</td>\n",
       "      <td>1.198667</td>\n",
       "    </tr>\n",
       "    <tr>\n",
       "      <th>std</th>\n",
       "      <td>0.828066</td>\n",
       "      <td>0.433594</td>\n",
       "      <td>1.764420</td>\n",
       "      <td>0.763161</td>\n",
       "    </tr>\n",
       "    <tr>\n",
       "      <th>min</th>\n",
       "      <td>4.300000</td>\n",
       "      <td>2.000000</td>\n",
       "      <td>1.000000</td>\n",
       "      <td>0.100000</td>\n",
       "    </tr>\n",
       "    <tr>\n",
       "      <th>25%</th>\n",
       "      <td>5.100000</td>\n",
       "      <td>2.800000</td>\n",
       "      <td>1.600000</td>\n",
       "      <td>0.300000</td>\n",
       "    </tr>\n",
       "    <tr>\n",
       "      <th>50%</th>\n",
       "      <td>5.800000</td>\n",
       "      <td>3.000000</td>\n",
       "      <td>4.350000</td>\n",
       "      <td>1.300000</td>\n",
       "    </tr>\n",
       "    <tr>\n",
       "      <th>75%</th>\n",
       "      <td>6.400000</td>\n",
       "      <td>3.300000</td>\n",
       "      <td>5.100000</td>\n",
       "      <td>1.800000</td>\n",
       "    </tr>\n",
       "    <tr>\n",
       "      <th>max</th>\n",
       "      <td>7.900000</td>\n",
       "      <td>4.400000</td>\n",
       "      <td>6.900000</td>\n",
       "      <td>2.500000</td>\n",
       "    </tr>\n",
       "  </tbody>\n",
       "</table>\n",
       "</div>"
      ],
      "text/plain": [
       "       sepal_length  sepal_width  petal_length  petal_width\n",
       "count    150.000000   150.000000    150.000000   150.000000\n",
       "mean       5.843333     3.054000      3.758667     1.198667\n",
       "std        0.828066     0.433594      1.764420     0.763161\n",
       "min        4.300000     2.000000      1.000000     0.100000\n",
       "25%        5.100000     2.800000      1.600000     0.300000\n",
       "50%        5.800000     3.000000      4.350000     1.300000\n",
       "75%        6.400000     3.300000      5.100000     1.800000\n",
       "max        7.900000     4.400000      6.900000     2.500000"
      ]
     },
     "execution_count": 9,
     "metadata": {},
     "output_type": "execute_result"
    }
   ],
   "source": [
    "flowers.describe()"
   ]
  },
  {
   "cell_type": "markdown",
   "metadata": {},
   "source": [
    "De acordo com a tabela, é possível observar que: as flores possuem um comprimento médio de sépala e de pétala de, aproximadamente, 5.84 cm e 3.758 cm, respectivamente; que elas possuem uma largura média de sépala e de pétala de, aproximadamente 3.054 cm e 1.198 cm, respectivamente; que 25% das flores possuem comprimento de sépala menor do que 5.1 cm; que 50% das flores possuem comprimento de pétala menor do que 4.35 cm; que 75% das flores possuem largura de sépala menor do que 3.3 cm; que a largura máxima de pétala é de 2.5 cm; entre outras características."
   ]
  },
  {
   "cell_type": "markdown",
   "metadata": {},
   "source": [
    "### Passo 05: Método hist()\n",
    "Utilizando o método *hist()*, podemos observar os histogramas do conjunto de dados, em que cada gráfico representa um atributo, o eixo horizontal de cada gráfico representa o valor que aquele atributo possui e o eixo vertical representa quantas instâncias dos dados possuem aquele valor."
   ]
  },
  {
   "cell_type": "code",
   "execution_count": 10,
   "metadata": {},
   "outputs": [
    {
     "data": {
      "image/png": "[encoded data removed]",
      "text/plain": [
       "<Figure size 720x720 with 4 Axes>"
      ]
     },
     "metadata": {
      "needs_background": "light"
     },
     "output_type": "display_data"
    }
   ],
   "source": [
    "flowers.hist(bins=50, figsize=(10,10))\n",
    "plt.show()"
   ]
  },
  {
   "cell_type": "markdown",
   "metadata": {},
   "source": [
    "É possível observar, de acordo com a distribuição dos dados, que a maior variedade de comprimentos e larguras ocorre para valores acima da média."
   ]
  },
  {
   "cell_type": "markdown",
   "metadata": {},
   "source": [
    "### Passo 06: Método tail() \n",
    "Esse método mostra as últimas cinco linhas do conjunto de dados."
   ]
  },
  {
   "cell_type": "code",
   "execution_count": 11,
   "metadata": {},
   "outputs": [
    {
     "data": {
      "text/html": [
       "<div>\n",
       "<style scoped>\n",
       "    .dataframe tbody tr th:only-of-type {\n",
       "        vertical-align: middle;\n",
       "    }\n",
       "\n",
       "    .dataframe tbody tr th {\n",
       "        vertical-align: top;\n",
       "    }\n",
       "\n",
       "    .dataframe thead th {\n",
       "        text-align: right;\n",
       "    }\n",
       "</style>\n",
       "<table border=\"1\" class=\"dataframe\">\n",
       "  <thead>\n",
       "    <tr style=\"text-align: right;\">\n",
       "      <th></th>\n",
       "      <th>sepal_length</th>\n",
       "      <th>sepal_width</th>\n",
       "      <th>petal_length</th>\n",
       "      <th>petal_width</th>\n",
       "      <th>label</th>\n",
       "    </tr>\n",
       "  </thead>\n",
       "  <tbody>\n",
       "    <tr>\n",
       "      <th>145</th>\n",
       "      <td>6.7</td>\n",
       "      <td>3.0</td>\n",
       "      <td>5.2</td>\n",
       "      <td>2.3</td>\n",
       "      <td>Iris-virginica</td>\n",
       "    </tr>\n",
       "    <tr>\n",
       "      <th>146</th>\n",
       "      <td>6.3</td>\n",
       "      <td>2.5</td>\n",
       "      <td>5.0</td>\n",
       "      <td>1.9</td>\n",
       "      <td>Iris-virginica</td>\n",
       "    </tr>\n",
       "    <tr>\n",
       "      <th>147</th>\n",
       "      <td>6.5</td>\n",
       "      <td>3.0</td>\n",
       "      <td>5.2</td>\n",
       "      <td>2.0</td>\n",
       "      <td>Iris-virginica</td>\n",
       "    </tr>\n",
       "    <tr>\n",
       "      <th>148</th>\n",
       "      <td>6.2</td>\n",
       "      <td>3.4</td>\n",
       "      <td>5.4</td>\n",
       "      <td>2.3</td>\n",
       "      <td>Iris-virginica</td>\n",
       "    </tr>\n",
       "    <tr>\n",
       "      <th>149</th>\n",
       "      <td>5.9</td>\n",
       "      <td>3.0</td>\n",
       "      <td>5.1</td>\n",
       "      <td>1.8</td>\n",
       "      <td>Iris-virginica</td>\n",
       "    </tr>\n",
       "  </tbody>\n",
       "</table>\n",
       "</div>"
      ],
      "text/plain": [
       "     sepal_length  sepal_width  petal_length  petal_width           label\n",
       "145           6.7          3.0           5.2          2.3  Iris-virginica\n",
       "146           6.3          2.5           5.0          1.9  Iris-virginica\n",
       "147           6.5          3.0           5.2          2.0  Iris-virginica\n",
       "148           6.2          3.4           5.4          2.3  Iris-virginica\n",
       "149           5.9          3.0           5.1          1.8  Iris-virginica"
      ]
     },
     "execution_count": 11,
     "metadata": {},
     "output_type": "execute_result"
    }
   ],
   "source": [
    "flowers.tail()"
   ]
  },
  {
   "cell_type": "markdown",
   "metadata": {},
   "source": [
    "### Passo 07: Método corr()\n",
    "\n",
    "Esse método calcula a correlação entre os atributos do conjunto de dados. Por padrão, o método de correlação empregado é o *Pearson correlation coefficient*, que é uma medida linear de correlação entre duas variáveis. Quanto mais próxima de 1, mais forte é a correlação em um sentido positivo; quanto mais próxima de -1, mais forte ela é em um sentido negativo; e, por último, quanto mais próxima de 0, menor é a correlação entre as duas variáveis consideradas.\n",
    "\n",
    "O método *set_precision(n)* formata os valores da tabela, fazendo com que eles possuam, no máximo, **n** casas decimais. Para isso, ele arredonda os dígitos até que se chegue às n casas.\n",
    "\n",
    "O método *background_gradient()* cria um mapa de calor (*heat map*). Para essa análise, utilizamos o padrão de cores **RdYlGn**, fazendo com que os valores mais negativos ganhem tons cada vez mais vermelhos, os valores intermediários sejam pintados com tons amarelados e os valores mais positivos ganhem tons cada vez mais verdes."
   ]
  },
  {
   "cell_type": "code",
   "execution_count": 12,
   "metadata": {},
   "outputs": [
    {
     "data": {
      "text/html": [
       "<style  type=\"text/css\" >\n",
       "</style>  \n",
       "<table id=\"T_a4aea71c_4fb8_11e9_8929_ed44fdd6b857\" > \n",
       "<thead>    <tr> \n",
       "        <th class=\"blank level0\" ></th> \n",
       "        <th class=\"col_heading level0 col0\" >sepal_length</th> \n",
       "        <th class=\"col_heading level0 col1\" >sepal_width</th> \n",
       "        <th class=\"col_heading level0 col2\" >petal_length</th> \n",
       "        <th class=\"col_heading level0 col3\" >petal_width</th> \n",
       "    </tr></thead> \n",
       "<tbody>    <tr> \n",
       "        <th id=\"T_a4aea71c_4fb8_11e9_8929_ed44fdd6b857level0_row0\" class=\"row_heading level0 row0\" >sepal_length</th> \n",
       "        <td id=\"T_a4aea71c_4fb8_11e9_8929_ed44fdd6b857row0_col0\" class=\"data row0 col0\" >1</td> \n",
       "        <td id=\"T_a4aea71c_4fb8_11e9_8929_ed44fdd6b857row0_col1\" class=\"data row0 col1\" >-0.1094</td> \n",
       "        <td id=\"T_a4aea71c_4fb8_11e9_8929_ed44fdd6b857row0_col2\" class=\"data row0 col2\" >0.8718</td> \n",
       "        <td id=\"T_a4aea71c_4fb8_11e9_8929_ed44fdd6b857row0_col3\" class=\"data row0 col3\" >0.818</td> \n",
       "    </tr>    <tr> \n",
       "        <th id=\"T_a4aea71c_4fb8_11e9_8929_ed44fdd6b857level0_row1\" class=\"row_heading level0 row1\" >sepal_width</th> \n",
       "        <td id=\"T_a4aea71c_4fb8_11e9_8929_ed44fdd6b857row1_col0\" class=\"data row1 col0\" >-0.1094</td> \n",
       "        <td id=\"T_a4aea71c_4fb8_11e9_8929_ed44fdd6b857row1_col1\" class=\"data row1 col1\" >1</td> \n",
       "        <td id=\"T_a4aea71c_4fb8_11e9_8929_ed44fdd6b857row1_col2\" class=\"data row1 col2\" >-0.4205</td> \n",
       "        <td id=\"T_a4aea71c_4fb8_11e9_8929_ed44fdd6b857row1_col3\" class=\"data row1 col3\" >-0.3565</td> \n",
       "    </tr>    <tr> \n",
       "        <th id=\"T_a4aea71c_4fb8_11e9_8929_ed44fdd6b857level0_row2\" class=\"row_heading level0 row2\" >petal_length</th> \n",
       "        <td id=\"T_a4aea71c_4fb8_11e9_8929_ed44fdd6b857row2_col0\" class=\"data row2 col0\" >0.8718</td> \n",
       "        <td id=\"T_a4aea71c_4fb8_11e9_8929_ed44fdd6b857row2_col1\" class=\"data row2 col1\" >-0.4205</td> \n",
       "        <td id=\"T_a4aea71c_4fb8_11e9_8929_ed44fdd6b857row2_col2\" class=\"data row2 col2\" >1</td> \n",
       "        <td id=\"T_a4aea71c_4fb8_11e9_8929_ed44fdd6b857row2_col3\" class=\"data row2 col3\" >0.9628</td> \n",
       "    </tr>    <tr> \n",
       "        <th id=\"T_a4aea71c_4fb8_11e9_8929_ed44fdd6b857level0_row3\" class=\"row_heading level0 row3\" >petal_width</th> \n",
       "        <td id=\"T_a4aea71c_4fb8_11e9_8929_ed44fdd6b857row3_col0\" class=\"data row3 col0\" >0.818</td> \n",
       "        <td id=\"T_a4aea71c_4fb8_11e9_8929_ed44fdd6b857row3_col1\" class=\"data row3 col1\" >-0.3565</td> \n",
       "        <td id=\"T_a4aea71c_4fb8_11e9_8929_ed44fdd6b857row3_col2\" class=\"data row3 col2\" >0.9628</td> \n",
       "        <td id=\"T_a4aea71c_4fb8_11e9_8929_ed44fdd6b857row3_col3\" class=\"data row3 col3\" >1</td> \n",
       "    </tr></tbody> \n",
       "</table> "
      ],
      "text/plain": [
       "<pandas.io.formats.style.Styler at 0x7f94c7909898>"
      ]
     },
     "execution_count": 12,
     "metadata": {},
     "output_type": "execute_result"
    }
   ],
   "source": [
    "flowers.corr().style.set_precision(4)"
   ]
  },
  {
   "cell_type": "code",
   "execution_count": 13,
   "metadata": {},
   "outputs": [
    {
     "data": {
      "text/html": [
       "<style  type=\"text/css\" >\n",
       "    #T_a4b7a4c0_4fb8_11e9_8929_ed44fdd6b857row0_col0 {\n",
       "            background-color:  #006837;\n",
       "        }    #T_a4b7a4c0_4fb8_11e9_8929_ed44fdd6b857row0_col1 {\n",
       "            background-color:  #f67a49;\n",
       "        }    #T_a4b7a4c0_4fb8_11e9_8929_ed44fdd6b857row0_col2 {\n",
       "            background-color:  #17934e;\n",
       "        }    #T_a4b7a4c0_4fb8_11e9_8929_ed44fdd6b857row0_col3 {\n",
       "            background-color:  #33a456;\n",
       "        }    #T_a4b7a4c0_4fb8_11e9_8929_ed44fdd6b857row1_col0 {\n",
       "            background-color:  #a50026;\n",
       "        }    #T_a4b7a4c0_4fb8_11e9_8929_ed44fdd6b857row1_col1 {\n",
       "            background-color:  #006837;\n",
       "        }    #T_a4b7a4c0_4fb8_11e9_8929_ed44fdd6b857row1_col2 {\n",
       "            background-color:  #a50026;\n",
       "        }    #T_a4b7a4c0_4fb8_11e9_8929_ed44fdd6b857row1_col3 {\n",
       "            background-color:  #a50026;\n",
       "        }    #T_a4b7a4c0_4fb8_11e9_8929_ed44fdd6b857row2_col0 {\n",
       "            background-color:  #249d53;\n",
       "        }    #T_a4b7a4c0_4fb8_11e9_8929_ed44fdd6b857row2_col1 {\n",
       "            background-color:  #a50026;\n",
       "        }    #T_a4b7a4c0_4fb8_11e9_8929_ed44fdd6b857row2_col2 {\n",
       "            background-color:  #006837;\n",
       "        }    #T_a4b7a4c0_4fb8_11e9_8929_ed44fdd6b857row2_col3 {\n",
       "            background-color:  #07753e;\n",
       "        }    #T_a4b7a4c0_4fb8_11e9_8929_ed44fdd6b857row3_col0 {\n",
       "            background-color:  #4bb05c;\n",
       "        }    #T_a4b7a4c0_4fb8_11e9_8929_ed44fdd6b857row3_col1 {\n",
       "            background-color:  #bb1526;\n",
       "        }    #T_a4b7a4c0_4fb8_11e9_8929_ed44fdd6b857row3_col2 {\n",
       "            background-color:  #06733d;\n",
       "        }    #T_a4b7a4c0_4fb8_11e9_8929_ed44fdd6b857row3_col3 {\n",
       "            background-color:  #006837;\n",
       "        }</style>  \n",
       "<table id=\"T_a4b7a4c0_4fb8_11e9_8929_ed44fdd6b857\" > \n",
       "<thead>    <tr> \n",
       "        <th class=\"blank level0\" ></th> \n",
       "        <th class=\"col_heading level0 col0\" >sepal_length</th> \n",
       "        <th class=\"col_heading level0 col1\" >sepal_width</th> \n",
       "        <th class=\"col_heading level0 col2\" >petal_length</th> \n",
       "        <th class=\"col_heading level0 col3\" >petal_width</th> \n",
       "    </tr></thead> \n",
       "<tbody>    <tr> \n",
       "        <th id=\"T_a4b7a4c0_4fb8_11e9_8929_ed44fdd6b857level0_row0\" class=\"row_heading level0 row0\" >sepal_length</th> \n",
       "        <td id=\"T_a4b7a4c0_4fb8_11e9_8929_ed44fdd6b857row0_col0\" class=\"data row0 col0\" >1</td> \n",
       "        <td id=\"T_a4b7a4c0_4fb8_11e9_8929_ed44fdd6b857row0_col1\" class=\"data row0 col1\" >-0.11</td> \n",
       "        <td id=\"T_a4b7a4c0_4fb8_11e9_8929_ed44fdd6b857row0_col2\" class=\"data row0 col2\" >0.87</td> \n",
       "        <td id=\"T_a4b7a4c0_4fb8_11e9_8929_ed44fdd6b857row0_col3\" class=\"data row0 col3\" >0.82</td> \n",
       "    </tr>    <tr> \n",
       "        <th id=\"T_a4b7a4c0_4fb8_11e9_8929_ed44fdd6b857level0_row1\" class=\"row_heading level0 row1\" >sepal_width</th> \n",
       "        <td id=\"T_a4b7a4c0_4fb8_11e9_8929_ed44fdd6b857row1_col0\" class=\"data row1 col0\" >-0.11</td> \n",
       "        <td id=\"T_a4b7a4c0_4fb8_11e9_8929_ed44fdd6b857row1_col1\" class=\"data row1 col1\" >1</td> \n",
       "        <td id=\"T_a4b7a4c0_4fb8_11e9_8929_ed44fdd6b857row1_col2\" class=\"data row1 col2\" >-0.42</td> \n",
       "        <td id=\"T_a4b7a4c0_4fb8_11e9_8929_ed44fdd6b857row1_col3\" class=\"data row1 col3\" >-0.36</td> \n",
       "    </tr>    <tr> \n",
       "        <th id=\"T_a4b7a4c0_4fb8_11e9_8929_ed44fdd6b857level0_row2\" class=\"row_heading level0 row2\" >petal_length</th> \n",
       "        <td id=\"T_a4b7a4c0_4fb8_11e9_8929_ed44fdd6b857row2_col0\" class=\"data row2 col0\" >0.87</td> \n",
       "        <td id=\"T_a4b7a4c0_4fb8_11e9_8929_ed44fdd6b857row2_col1\" class=\"data row2 col1\" >-0.42</td> \n",
       "        <td id=\"T_a4b7a4c0_4fb8_11e9_8929_ed44fdd6b857row2_col2\" class=\"data row2 col2\" >1</td> \n",
       "        <td id=\"T_a4b7a4c0_4fb8_11e9_8929_ed44fdd6b857row2_col3\" class=\"data row2 col3\" >0.96</td> \n",
       "    </tr>    <tr> \n",
       "        <th id=\"T_a4b7a4c0_4fb8_11e9_8929_ed44fdd6b857level0_row3\" class=\"row_heading level0 row3\" >petal_width</th> \n",
       "        <td id=\"T_a4b7a4c0_4fb8_11e9_8929_ed44fdd6b857row3_col0\" class=\"data row3 col0\" >0.82</td> \n",
       "        <td id=\"T_a4b7a4c0_4fb8_11e9_8929_ed44fdd6b857row3_col1\" class=\"data row3 col1\" >-0.36</td> \n",
       "        <td id=\"T_a4b7a4c0_4fb8_11e9_8929_ed44fdd6b857row3_col2\" class=\"data row3 col2\" >0.96</td> \n",
       "        <td id=\"T_a4b7a4c0_4fb8_11e9_8929_ed44fdd6b857row3_col3\" class=\"data row3 col3\" >1</td> \n",
       "    </tr></tbody> \n",
       "</table> "
      ],
      "text/plain": [
       "<pandas.io.formats.style.Styler at 0x7f94c7694e10>"
      ]
     },
     "execution_count": 13,
     "metadata": {},
     "output_type": "execute_result"
    }
   ],
   "source": [
    "flowers.corr().style.background_gradient(cmap='RdYlGn').set_precision(2)"
   ]
  },
  {
   "cell_type": "markdown",
   "metadata": {},
   "source": [
    "Podemos observar que os atributos possuem correlação máxima e positiva com eles mesmos. O comprimento da sépala possui uma elevada correlação positiva com o comprimento e largura da pétala, ou seja, quanto maior forem esses valores, maior será o comprimento da sépala e vice-versa. Por outro lado, ele possui uma pequena correlação negativa com a largura da sépala, ou seja, quanto maior for esse valor, menor será o comprimento da sépala, mas essa variação ocorrerá mais lentamente. Também é possível observar que o comprimento da pétala tem uma elevada correlação positiva com sua largura."
   ]
  },
  {
   "cell_type": "markdown",
   "metadata": {},
   "source": [
    "## 4) Separe parte dos dados para treino (5%) e parte para teste (95%). Esta divisão não  é   usual, mas vai nos permitir algumas análises. Considere somente as classes Setosa e Virgínica."
   ]
  },
  {
   "cell_type": "markdown",
   "metadata": {},
   "source": [
    "### Passo 01: Extrair conjunto de dados de interesse\n",
    "\n",
    "Como queremos apenas as classes Iris-setora e Iris-virginica, primeiramente vamos capturar apenas essa parte do conjunto de dados."
   ]
  },
  {
   "cell_type": "code",
   "execution_count": 14,
   "metadata": {},
   "outputs": [],
   "source": [
    "# O que o operador | está fazendo exatamente?\n",
    "flowers = flowers[ (flowers['label'] == 'Iris-setosa') | (flowers['label'] == 'Iris-virginica') ]"
   ]
  },
  {
   "cell_type": "markdown",
   "metadata": {},
   "source": [
    "Utilizando o método *value_counts()*, podemos observar que apenas os dados referentes às classes Iris-setora e Iris-virginica estão presentes no conjunto de dados, conforme desejado."
   ]
  },
  {
   "cell_type": "code",
   "execution_count": 15,
   "metadata": {},
   "outputs": [
    {
     "data": {
      "text/plain": [
       "Iris-virginica    50\n",
       "Iris-setosa       50\n",
       "Name: label, dtype: int64"
      ]
     },
     "execution_count": 15,
     "metadata": {},
     "output_type": "execute_result"
    }
   ],
   "source": [
    "flowers['label'].value_counts()"
   ]
  },
  {
   "cell_type": "markdown",
   "metadata": {},
   "source": [
    "### Passo 02: Mapear labels para números\n",
    "\n",
    "Os *labels* do nosso conjunto de dados estão no formato texto, que é humanamente legível. Entretanto, para que possamos utilizar os algoritmos de aprendizado requisitados, precisamos transformar esses textos para um formato de representação que os algoritmos entendam. Nesse caso, esse formato são números. Como os algoritmos empregados são binários (sua saída só possui dois valores possíveis), mapearemos as duas classes para 1 (Iris-setosa) e -1 (Iris-virginica)."
   ]
  },
  {
   "cell_type": "code",
   "execution_count": 16,
   "metadata": {},
   "outputs": [],
   "source": [
    "flowers['label'] = np.where(flowers['label'] == 'Iris-setosa', 1, -1)"
   ]
  },
  {
   "cell_type": "markdown",
   "metadata": {},
   "source": [
    "### Passo 03: Extrair os valores\n",
    "Agora, extrairemos os valores contidos na estrutura *flowers*, que é do tipo *DataFrame*. Para isso, utilizaremos o atributo *values*, que retorna uma estrutura NumPy que contém os dados existentes na estrutura *flowers*,  retirando-se os nomes dos eixos, e a salvaremos na estrutura  **dataset**."
   ]
  },
  {
   "cell_type": "code",
   "execution_count": 17,
   "metadata": {},
   "outputs": [],
   "source": [
    "dataset = flowers.values"
   ]
  },
  {
   "cell_type": "markdown",
   "metadata": {},
   "source": [
    "### Passo 04: Separar *features* e *lables*\n",
    "Agora, salvaremos na estrutura X todas as características que serão utilizadas pelo algoritmo de aprendizado para realizar classificação. Elas podem ser entendidas como a entrada do sistema. Então, salvaremos na estrutura Y todos os lables, que, neste caso, são classes, do conjunto de dados. Eles podem ser entendidos como a saída do sistema e correspondem aos valores que o algoritmo dever prever, ou classificar, de acordo com a entrada recebida."
   ]
  },
  {
   "cell_type": "code",
   "execution_count": 18,
   "metadata": {},
   "outputs": [],
   "source": [
    "X = dataset[:,:-1]\n",
    "y = dataset[:,-1]"
   ]
  },
  {
   "cell_type": "markdown",
   "metadata": {},
   "source": [
    "### Passo 05: Tornar os dados aleatórios\n",
    "Os dados do conjunto de dados estão ordenados de acordo com suas classes, ou seja, as primeiras cinquenta linhas referem-se a uma classe e as outras cinquenta linhas, à classe restante. Dessa forma, como separaremos esses dados em um conjunto de treino e um de teste, é importante que o conjunto de treino tenha dados de todas as classes. Portanto, reorganizando as linhas de forma aleatória, garantiremos que esse conjunto tenha acesso aos dados desejados. Para isso, utilizaremos os métodos **random.RandomState()** e **permutation()**."
   ]
  },
  {
   "cell_type": "code",
   "execution_count": 19,
   "metadata": {},
   "outputs": [
    {
     "data": {
      "text/plain": [
       "array([80, 84, 33, 81, 93, 17, 36, 82, 69, 65, 92, 39, 56, 52, 51, 32, 31,\n",
       "       44, 78, 10,  2, 73, 97, 62, 19, 35, 94, 27, 46, 38, 67, 99, 54, 95,\n",
       "       88, 40, 48, 59, 23, 34, 86, 53, 77, 15, 83, 41, 45, 91, 26, 98, 43,\n",
       "       55, 24,  4, 58, 49, 21, 87,  3, 74, 30, 66, 70, 42, 47, 89,  8, 60,\n",
       "        0, 90, 57, 22, 61, 63,  7, 96, 13, 68, 85, 14, 29, 28, 11, 18, 20,\n",
       "       50, 25,  6, 71, 76,  1, 16, 64, 79,  5, 75,  9, 72, 12, 37])"
      ]
     },
     "execution_count": 19,
     "metadata": {},
     "output_type": "execute_result"
    }
   ],
   "source": [
    "rs = np.random.RandomState(1)\n",
    "shuffled_indices = rs.permutation(X.shape[0])\n",
    "\n",
    "X = X[shuffled_indices]\n",
    "y = y[shuffled_indices]\n",
    "shuffled_indices"
   ]
  },
  {
   "cell_type": "code",
   "execution_count": 20,
   "metadata": {},
   "outputs": [
    {
     "data": {
      "text/plain": [
       "array([[7.4, 2.8, 6.1, 1.9],\n",
       "       [6.1, 2.6, 5.6, 1.4],\n",
       "       [5.5, 4.2, 1.4, 0.2],\n",
       "       [7.9, 3.8, 6.4, 2. ],\n",
       "       [6.8, 3.2, 5.9, 2.3]])"
      ]
     },
     "execution_count": 20,
     "metadata": {},
     "output_type": "execute_result"
    }
   ],
   "source": [
    "X[:5]"
   ]
  },
  {
   "cell_type": "markdown",
   "metadata": {},
   "source": [
    "### Passo 06: Criação dos conjuntos de treino e de teste\n",
    "Por fim, criaremos os conjuntos de treino e teste, salvando, nas estruturas **X_train** e **y_train**, 5% dos dados e, nas estruturas **X_test** e **y_test**, os 95% restantes. Nas estruturas que começam com *X_* estão os dados de entrada e nas que começam com *y_*, os de saída."
   ]
  },
  {
   "cell_type": "code",
   "execution_count": 21,
   "metadata": {},
   "outputs": [],
   "source": [
    "n_train = int(round(len(y) * 0.05))\n",
    "X_train = X[:n_train,:]\n",
    "y_train = y[:n_train]\n",
    "X_test = X[n_train:,:]\n",
    "y_test = y[n_train:]"
   ]
  },
  {
   "cell_type": "markdown",
   "metadata": {},
   "source": [
    "## 5) Crie modelos de aprendizado de máquina com diferentes hiper-parâmetros usando Perceptron e Adaline-GD (Adaline com Gradiente Descendente)."
   ]
  },
  {
   "cell_type": "markdown",
   "metadata": {},
   "source": [
    "### Passo 01: Criar Perceptron\n",
    "O Perceptron é um modelo de aprendizado binário, ou seja, sua saída só possui dois valores possíveis. Entretanto, com algumas adaptações, ele pode ser empregado para modelos de aprendizado em que se deseja mais de dois valores de saída. Seus hiperparâmetros são a **taxa de aprendizado**(*eta*) e o **número de epochs**(*n_iter*)."
   ]
  },
  {
   "cell_type": "code",
   "execution_count": 22,
   "metadata": {},
   "outputs": [],
   "source": [
    "class Perceptron(object):\n",
    "    \"\"\"Perceptron classifier.\n",
    "    Parameters\n",
    "    ------------\n",
    "    eta : float\n",
    "      Learning rate (between 0.0 and 1.0)\n",
    "    n_iter : int\n",
    "      Passes over the training dataset.\n",
    "    random_state : int\n",
    "      Random number generator seed for random weight\n",
    "      initialization.\n",
    "    Attributes\n",
    "    -----------\n",
    "    w_ : 1d-array\n",
    "      Weights after fitting.\n",
    "    errors_ : list\n",
    "      Number of misclassifications (updates) in each epoch.\n",
    "    \"\"\"\n",
    "    def __init__(self, eta=0.01, n_iter=50, random_state=1):\n",
    "        self.eta = eta\n",
    "        self.n_iter = n_iter\n",
    "        self.random_state = random_state\n",
    "\n",
    "    def fit(self, X, y):\n",
    "        \"\"\"Fit training data.\n",
    "        Parameters\n",
    "        ----------\n",
    "        X : {array-like}, shape = [n_samples, n_features]\n",
    "          Training vectors, where n_samples is the number of samples and\n",
    "          n_features is the number of features.\n",
    "        y : array-like, shape = [n_samples]\n",
    "          Target values.\n",
    "        Returns\n",
    "        -------\n",
    "        self : object\n",
    "        \"\"\"\n",
    "        rgen = np.random.RandomState(self.random_state)\n",
    "        self.w_ = rgen.normal(loc=0.0, scale=0.01, size=1 + X.shape[1])\n",
    "        self.errors_ = []\n",
    "\n",
    "        for _ in range(self.n_iter):\n",
    "            errors = 0\n",
    "            for xi, target in zip(X, y):\n",
    "                update = self.eta * (target - self.predict(xi))\n",
    "                self.w_[1:] += update * xi\n",
    "                self.w_[0] += update\n",
    "                errors += int(update != 0.0)\n",
    "            self.errors_.append(errors)\n",
    "        return self\n",
    "\n",
    "    def net_input(self, X):\n",
    "        \"\"\"Calculate net input\"\"\"\n",
    "        return np.dot(X, self.w_[1:]) + self.w_[0]\n",
    "\n",
    "    def predict(self, X):\n",
    "        \"\"\"Return class label after unit step\"\"\"\n",
    "        return np.where(self.net_input(X) >= 0.0, 1, -1)"
   ]
  },
  {
   "cell_type": "markdown",
   "metadata": {},
   "source": [
    "### Passo 02: Criar Adaline\n",
    "O Adaline é um modelo de aprendizado baseado no Perceptron. Suas principais diferenças são o fato de a função de ativação do Adaline ser uma função linear (nesse caso, identidade), ao invés de uma função de passo unitário; o Adaline também possui uma função de limite, a qual funciona como um passo unitário, que recebe a saída da função de ativação e apresenta o valor final do algoritmo como um de dois valores; além disso, ao contrário do que acontece no Perceptron, todo o conjunto de treino é utilizado, de uma vez, antes de os pesos serem atualizados; para que os pesos sejam atualizados, a saída da função de ativação, e não da saída final do algoritmo, é utilizada para o cálculo do erro; por fim, a atualização dos pesos depende de um algoritmo chamado de *Gradient Descent*, que é dado pela derivada parcial da função de custo, para cada peso do modelo. O *Gradient Descent* é empregado para minimizar a **Função de Custo**, que é empregada para o ajuste dos pesos. A mudança final a ser realizada em um determinado peso é dada pela taxa de aprendizado do algoritmo multiplicada pelo negativo do gradient descent. \n",
    "\n",
    "Seus hiperparâmetros são a **taxa de aprendizado** (*eta*) e o **número de epochs** (*n_iter*)."
   ]
  },
  {
   "cell_type": "code",
   "execution_count": 23,
   "metadata": {},
   "outputs": [],
   "source": [
    "class AdalineGD(object):\n",
    "    \"\"\"ADAptive LInear NEuron classifier.\n",
    "    Parameters\n",
    "    ------------\n",
    "    eta : float\n",
    "      Learning rate (between 0.0 and 1.0)\n",
    "    n_iter : int\n",
    "      Passes over the training dataset.\n",
    "    random_state : int\n",
    "      Random number generator seed for random weight\n",
    "      initialization.\n",
    "    Attributes\n",
    "    -----------\n",
    "    w_ : 1d-array\n",
    "      Weights after fitting.\n",
    "    cost_ : list\n",
    "      Sum-of-squares cost function value in each epoch.\n",
    "    \"\"\"\n",
    "    def __init__(self, eta=0.01, n_iter=50, random_state=1):\n",
    "        self.eta = eta\n",
    "        self.n_iter = n_iter\n",
    "        self.random_state = random_state\n",
    "\n",
    "    def fit(self, X, y):\n",
    "        \"\"\" Fit training data.\n",
    "        Parameters\n",
    "        ----------\n",
    "        X : {array-like}, shape = [n_samples, n_features]\n",
    "          Training vectors, where n_samples is the number of samples and\n",
    "          n_features is the number of features.\n",
    "        y : array-like, shape = [n_samples]\n",
    "          Target values.\n",
    "        Returns\n",
    "        -------\n",
    "        self : object\n",
    "        \"\"\"\n",
    "        rgen = np.random.RandomState(self.random_state)\n",
    "        self.w_ = rgen.normal(loc=0.0, scale=0.01, size=1 + X.shape[1])\n",
    "        self.cost_ = []\n",
    "\n",
    "        for i in range(self.n_iter):\n",
    "            net_input = self.net_input(X)\n",
    "            # Please note that the \"activation\" method has no effect\n",
    "            # in the code since it is simply an identity function. We\n",
    "            # could write `output = self.net_input(X)` directly instead.\n",
    "            # The purpose of the activation is more conceptual, i.e.,  \n",
    "            # in the case of logistic regression (as we will see later), \n",
    "            # we could change it to\n",
    "            # a sigmoid function to implement a logistic regression classifier.\n",
    "            output = self.activation(net_input)\n",
    "            errors = (y - output)\n",
    "            self.w_[1:] += self.eta * X.T.dot(errors)\n",
    "            self.w_[0] += self.eta * errors.sum()\n",
    "            cost = (errors**2).sum() / 2.0\n",
    "            self.cost_.append(cost)\n",
    "        return self\n",
    "\n",
    "    def net_input(self, X):\n",
    "        \"\"\"Calculate net input\"\"\"\n",
    "        return np.dot(X, self.w_[1:]) + self.w_[0]\n",
    "\n",
    "    def activation(self, X):\n",
    "        \"\"\"Compute linear activation\"\"\"\n",
    "        return X\n",
    "\n",
    "    def predict(self, X):\n",
    "        \"\"\"Return class label after unit step\"\"\"\n",
    "        return np.where(self.activation(self.net_input(X)) >= 0.0, 1, -1)"
   ]
  },
  {
   "cell_type": "markdown",
   "metadata": {},
   "source": [
    "## 6) Calcule a acurácia dos modelos gerados e mostre qual o melhor deles, considerando esssa métrica.\n",
    "Nessa etapa, vamos treinar os modelos utilizando diferentes valores para *eta* e *n_iter*, de forma a analisar o impacto desses hiperparâmetros para o desempenho dos algoritmos.\n",
    "\n",
    "Os valores de eta e n_iter a serem testados serão:<br>\n",
    "a) **eta = 0.2** **n_iter = 50** <br>\n",
    "b) **eta = 0.1** **n_iter = 50** <br>\n",
    "c) **eta = 0.01** **n_iter = 50** <br>\n",
    "d) **eta = 0.001** **n_iter = 25** <br>\n",
    "e) **eta = 0.0001** **n_iter = 25** <br>\n",
    "f) **eta = 0.001** **n_iter = 50**\n"
   ]
  },
  {
   "cell_type": "markdown",
   "metadata": {},
   "source": [
    "### Passo 01: Treinar, Testar e Analisar Perceptron"
   ]
  },
  {
   "cell_type": "code",
   "execution_count": 24,
   "metadata": {},
   "outputs": [],
   "source": [
    "perceptron_model = Perceptron(eta=0.001, n_iter=50)"
   ]
  },
  {
   "cell_type": "code",
   "execution_count": 25,
   "metadata": {},
   "outputs": [
    {
     "data": {
      "text/plain": [
       "<__main__.Perceptron at 0x7f94c77b1588>"
      ]
     },
     "execution_count": 25,
     "metadata": {},
     "output_type": "execute_result"
    }
   ],
   "source": [
    "perceptron_model.fit(X_train, y_train)"
   ]
  },
  {
   "cell_type": "code",
   "execution_count": 26,
   "metadata": {},
   "outputs": [],
   "source": [
    "yp_pred = perceptron_model.predict(X_test)"
   ]
  },
  {
   "cell_type": "code",
   "execution_count": 27,
   "metadata": {},
   "outputs": [
    {
     "data": {
      "text/plain": [
       "0.9894736842105263"
      ]
     },
     "execution_count": 27,
     "metadata": {},
     "output_type": "execute_result"
    }
   ],
   "source": [
    "perceptron_accuracy = metrics.accuracy_score(y_test, yp_pred)\n",
    "perceptron_accuracy"
   ]
  },
  {
   "cell_type": "code",
   "execution_count": 28,
   "metadata": {},
   "outputs": [
    {
     "data": {
      "image/png": "[encoded data removed]",
      "text/plain": [
       "<Figure size 432x288 with 1 Axes>"
      ]
     },
     "metadata": {
      "needs_background": "light"
     },
     "output_type": "display_data"
    }
   ],
   "source": [
    "plt.plot(range(1, len(perceptron_model.errors_)+1), perceptron_model.errors_, marker='.')\n",
    "plt.xlabel('Epochs')\n",
    "plt.ylabel('Number of updates');"
   ]
  },
  {
   "cell_type": "markdown",
   "metadata": {},
   "source": [
    "**a)** A acurácia foi de 1 e o erro passou a ser zero na quarta epoch.\n",
    "\n",
    "**b)** Ao construirmos o modelo utilizando essas configurações de eta e n_iter, obtivemos uma acurácia de 1. Além disso, o erro passou a ser nulo depois da quarta epoch. Ou seja, poderíamos ter parado o treinamento na quarta iteração.\n",
    "\n",
    "**c)** Aconteceu o mesmo que no item (b).\n",
    "\n",
    "**d)** Com essa configuração, a acurácia foi de 0.9894736842105263 e o erro começou a ser nulo a partir da terceira epoch.\n",
    "\n",
    "**e)** Ao empregarmos essa configuração, a acurácia foi de 1, mas foram necessárias sete epochs para o erro ir para 0.\n",
    "\n",
    "**f)** Obtivemos uma acurácia de 0.9894736842105263 e a partir da terceira epoch o erro passou a ser nulo."
   ]
  },
  {
   "cell_type": "markdown",
   "metadata": {},
   "source": [
    "### Passo 02: Treinar, Testar e Analisar ADALINE"
   ]
  },
  {
   "cell_type": "code",
   "execution_count": 29,
   "metadata": {},
   "outputs": [],
   "source": [
    "adaline_model = AdalineGD(eta=0.001, n_iter= 50)"
   ]
  },
  {
   "cell_type": "code",
   "execution_count": 30,
   "metadata": {},
   "outputs": [
    {
     "data": {
      "text/plain": [
       "<__main__.AdalineGD at 0x7f94c7854780>"
      ]
     },
     "execution_count": 30,
     "metadata": {},
     "output_type": "execute_result"
    }
   ],
   "source": [
    "adaline_model.fit(X_train, y_train)"
   ]
  },
  {
   "cell_type": "code",
   "execution_count": 31,
   "metadata": {},
   "outputs": [],
   "source": [
    "ya_pred = adaline_model.predict(X_test)"
   ]
  },
  {
   "cell_type": "code",
   "execution_count": 32,
   "metadata": {},
   "outputs": [
    {
     "data": {
      "text/plain": [
       "1.0"
      ]
     },
     "execution_count": 32,
     "metadata": {},
     "output_type": "execute_result"
    }
   ],
   "source": [
    "adaline_accuracy = metrics.accuracy_score(y_test, ya_pred)\n",
    "adaline_accuracy"
   ]
  },
  {
   "cell_type": "markdown",
   "metadata": {},
   "source": [
    "Para construirmos o gráfico do perceptron, utilizamos o erro. Entretanto, para o adaline, utilizaremos a função de custo, uma vez que esta depende diretamente do erro e é utilizada para otimização do algoritmo. Ela será apresentada, no eixo y do gráfico, pelo seu logarítmo na base 10."
   ]
  },
  {
   "cell_type": "code",
   "execution_count": 33,
   "metadata": {},
   "outputs": [
    {
     "data": {
      "text/plain": [
       "Text(0, 0.5, 'log(Sum-squared-error)')"
      ]
     },
     "execution_count": 33,
     "metadata": {},
     "output_type": "execute_result"
    },
    {
     "data": {
      "image/png": "[encoded data removed]",
      "text/plain": [
       "<Figure size 432x288 with 1 Axes>"
      ]
     },
     "metadata": {
      "needs_background": "light"
     },
     "output_type": "display_data"
    }
   ],
   "source": [
    "plt.plot(range(1,len(adaline_model.cost_)+1), np.log10(adaline_model.cost_), marker='.')\n",
    "plt.xlabel('Epochs')\n",
    "plt.ylabel('log(Sum-squared-error)')"
   ]
  },
  {
   "cell_type": "markdown",
   "metadata": {},
   "source": [
    "**a)** Obtivemos uma acurácia de 0.5157894736842106 e a função de custo apresentou um comportamento crescente.\n",
    "\n",
    "**b)** Utilizando essa configuração, obtivemos uma acurácia de 0.5157894736842106. Entretanto, a função de custo apresentou um comportamento crescente. Isso pode significar que a taxa de aprendizado está muito grande, fazendo com que ultrapassemos o erro mínimo.\n",
    "\n",
    "**c)** Acontece o mesmo que nos itens  (a) e (b).\n",
    "\n",
    "**d)** Ao utilizarmos essa configuração, obtivemos uma acurácia de 0.4842105263157895. Além disso, a função de custo apresentou um comportamento decrescente, conforme desejado. Apesar disso, a taxa de aprendizado se mostrou muito pequena para que a função de custo atingisse o valor mínimo durante as 25 epochs.\n",
    "\n",
    "**e)** O comportamento é semelhante ao do item (d).\n",
    "\n",
    "**f)** Com essa configuração, conseguimos obter uma acurácia de 1. Entretanto, foram necessárias 49 epochs."
   ]
  },
  {
   "cell_type": "markdown",
   "metadata": {},
   "source": [
    "Observando o comportamento dos algoritmos para os diferentes valores de hiperparâmetros adotados, percebemos que o perceptron apresentou uma acurácia maior na maioria dos testes, exceto quando **eta = 0.001** e **n_iter = 50**. Também pudemos observar o efeito da taxa de aprendizado no desempenho do algoritmo Adaline, uma vez que, se essa taxa fosse muito grande, a função de custo se tornava crescente; já, se a taxa fosse muito pequena, seriam necessárias muitas epochs para que a função de custo atingisse o valor mínimo."
   ]
  }
 ],
 "metadata": {
  "kernelspec": {
   "display_name": "Python 3",
   "language": "python",
   "name": "python3"
  },
  "language_info": {
   "codemirror_mode": {
    "name": "ipython",
    "version": 3
   },
   "file_extension": ".py",
   "mimetype": "text/x-python",
   "name": "python",
   "nbconvert_exporter": "python",
   "pygments_lexer": "ipython3",
   "version": "3.7.1"
  }
 },
 "nbformat": 4,
 "nbformat_minor": 2
}
